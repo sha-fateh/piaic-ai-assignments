{
  "nbformat": 4,
  "nbformat_minor": 0,
  "metadata": {
    "kernelspec": {
      "display_name": "Python 3",
      "language": "python",
      "name": "python3"
    },
    "language_info": {
      "codemirror_mode": {
        "name": "ipython",
        "version": 3
      },
      "file_extension": ".py",
      "mimetype": "text/x-python",
      "name": "python",
      "nbconvert_exporter": "python",
      "pygments_lexer": "ipython3",
      "version": "3.7.3"
    },
    "colab": {
      "name": "Assignment#2RollNo#PIAIC102464.ipynb",
      "provenance": [],
      "collapsed_sections": []
    }
  },
  "cells": [
    {
      "cell_type": "markdown",
      "metadata": {
        "id": "vYVkeBTHWhs2"
      },
      "source": [
        "# Numpy_Assignment_2::"
      ]
    },
    {
      "cell_type": "markdown",
      "metadata": {
        "id": "Ap86np82WhtR"
      },
      "source": [
        "## Question:1"
      ]
    },
    {
      "cell_type": "markdown",
      "metadata": {
        "id": "cH33iQgXWhtU"
      },
      "source": [
        "### Convert a 1D array to a 2D array with 2 rows?"
      ]
    },
    {
      "cell_type": "markdown",
      "metadata": {
        "id": "9c9Lq3FQWhtX"
      },
      "source": [
        "#### Desired output::"
      ]
    },
    {
      "cell_type": "markdown",
      "metadata": {
        "id": "KDLowRazWhtZ"
      },
      "source": [
        "\n",
        "array([[0, 1, 2, 3, 4],\n",
        "        [5, 6, 7, 8, 9]])"
      ]
    },
    {
      "cell_type": "code",
      "metadata": {
        "id": "3nrzhdotWhtb",
        "colab": {
          "base_uri": "https://localhost:8080/"
        },
        "outputId": "883386a1-0b0d-428d-85d5-988ff9f1aa37"
      },
      "source": [
        "import numpy as np\n",
        "arr1 = np.arange(10)\n",
        "arr2d = arr1.reshape(2, 5)\n",
        "print(arr2d)\n"
      ],
      "execution_count": 2,
      "outputs": [
        {
          "output_type": "stream",
          "text": [
            "[[0 1 2 3 4]\n",
            " [5 6 7 8 9]]\n"
          ],
          "name": "stdout"
        }
      ]
    },
    {
      "cell_type": "markdown",
      "metadata": {
        "id": "ycbKbMPVWhtd"
      },
      "source": [
        "## Question:2"
      ]
    },
    {
      "cell_type": "markdown",
      "metadata": {
        "id": "cxReWnTXWhtf"
      },
      "source": [
        "###  How to stack two arrays vertically?"
      ]
    },
    {
      "cell_type": "markdown",
      "metadata": {
        "id": "KSIzsWa_Whtg"
      },
      "source": [
        "#### Desired Output::"
      ]
    },
    {
      "cell_type": "markdown",
      "metadata": {
        "id": "7bTOCLCTWhtj"
      },
      "source": [
        "array([[0, 1, 2, 3, 4],\n",
        "        [5, 6, 7, 8, 9],\n",
        "       [1, 1, 1, 1, 1],\n",
        "       [1, 1, 1, 1, 1]])"
      ]
    },
    {
      "cell_type": "code",
      "metadata": {
        "id": "Wk6XV_UaWhtm",
        "colab": {
          "base_uri": "https://localhost:8080/"
        },
        "outputId": "ee3a5e94-67f5-4b50-ac99-acf2efabac15"
      },
      "source": [
        "a = np.array([[0,1,2,3,4],[5,6,7,8,9]])\n",
        "b = np.array([[1,1,1,1,1],[1,1,1,1,1]])\n",
        "np.vstack((a,b))"
      ],
      "execution_count": 5,
      "outputs": [
        {
          "output_type": "execute_result",
          "data": {
            "text/plain": [
              "array([[0, 1, 2, 3, 4],\n",
              "       [5, 6, 7, 8, 9],\n",
              "       [1, 1, 1, 1, 1],\n",
              "       [1, 1, 1, 1, 1]])"
            ]
          },
          "metadata": {
            "tags": []
          },
          "execution_count": 5
        }
      ]
    },
    {
      "cell_type": "markdown",
      "metadata": {
        "id": "Sg3BLi8iWhtq"
      },
      "source": [
        "## Question:3"
      ]
    },
    {
      "cell_type": "markdown",
      "metadata": {
        "id": "-YgWhHyIWhts"
      },
      "source": [
        "### How to stack two arrays horizontally?"
      ]
    },
    {
      "cell_type": "markdown",
      "metadata": {
        "id": "nmSXdH2NWhts"
      },
      "source": [
        "#### Desired Output::"
      ]
    },
    {
      "cell_type": "markdown",
      "metadata": {
        "id": "ZorLtiShWhtu"
      },
      "source": [
        "array([[0, 1, 2, 3, 4, 1, 1, 1, 1, 1],\n",
        "       [5, 6, 7, 8, 9, 1, 1, 1, 1, 1]])"
      ]
    },
    {
      "cell_type": "code",
      "metadata": {
        "id": "n9K_TWAgWhtv",
        "colab": {
          "base_uri": "https://localhost:8080/"
        },
        "outputId": "fddcaecb-b54d-46c7-f347-3f28f4128e8a"
      },
      "source": [
        "aa = np.array([[0,1,2,3,4],[5,6,7,8,9]])\n",
        "bb = np.array([[1,1,1,1,1],[1,1,1,1,1]])\n",
        "\n",
        "np.hstack((aa,bb))"
      ],
      "execution_count": 6,
      "outputs": [
        {
          "output_type": "execute_result",
          "data": {
            "text/plain": [
              "array([[0, 1, 2, 3, 4, 1, 1, 1, 1, 1],\n",
              "       [5, 6, 7, 8, 9, 1, 1, 1, 1, 1]])"
            ]
          },
          "metadata": {
            "tags": []
          },
          "execution_count": 6
        }
      ]
    },
    {
      "cell_type": "markdown",
      "metadata": {
        "id": "xqdH0RlzWhtw"
      },
      "source": [
        "## Question:4"
      ]
    },
    {
      "cell_type": "markdown",
      "metadata": {
        "id": "BSGJSw-RWhtx"
      },
      "source": [
        "### How to convert an array of arrays into a flat 1d array?"
      ]
    },
    {
      "cell_type": "markdown",
      "metadata": {
        "id": "oiwotAfeWhtx"
      },
      "source": [
        "#### Desired Output::"
      ]
    },
    {
      "cell_type": "markdown",
      "metadata": {
        "id": "0vuqV0T7Whty"
      },
      "source": [
        "array([0, 1, 2, 3, 4, 5, 6, 7, 8, 9])"
      ]
    },
    {
      "cell_type": "code",
      "metadata": {
        "id": "OtyP2mgoWhty",
        "colab": {
          "base_uri": "https://localhost:8080/"
        },
        "outputId": "919a227b-ad9b-4114-fe91-35948a67b452"
      },
      "source": [
        "a1 = np.array([[0,1,2,3,4],[5,6,7,8,9]])\n",
        "\n",
        "a1.flatten()"
      ],
      "execution_count": 8,
      "outputs": [
        {
          "output_type": "execute_result",
          "data": {
            "text/plain": [
              "array([0, 1, 2, 3, 4, 5, 6, 7, 8, 9])"
            ]
          },
          "metadata": {
            "tags": []
          },
          "execution_count": 8
        }
      ]
    },
    {
      "cell_type": "markdown",
      "metadata": {
        "id": "uaOqkywmWht0"
      },
      "source": [
        "## Question:5"
      ]
    },
    {
      "cell_type": "markdown",
      "metadata": {
        "id": "F91obg86Wht1"
      },
      "source": [
        "### How to Convert higher dimension into one dimension?"
      ]
    },
    {
      "cell_type": "markdown",
      "metadata": {
        "id": "rqRbfZpGWht2"
      },
      "source": [
        "#### Desired Output::"
      ]
    },
    {
      "cell_type": "markdown",
      "metadata": {
        "id": "6uXzR2xyWht3"
      },
      "source": [
        "array([ 0, 1, 2, 3, 4, 5, 6, 7, 8, 9, 10, 11, 12, 13, 14])"
      ]
    },
    {
      "cell_type": "code",
      "metadata": {
        "id": "IZWfSU6uWht5",
        "colab": {
          "base_uri": "https://localhost:8080/"
        },
        "outputId": "763cf2d8-90f8-466b-af4b-46e94a860c15"
      },
      "source": [
        "arr2 = np.arange(15).reshape(3, 1,5)\n",
        "print (arr2)\n",
        "arr2.ravel()"
      ],
      "execution_count": 16,
      "outputs": [
        {
          "output_type": "stream",
          "text": [
            "[[[ 0  1  2  3  4]]\n",
            "\n",
            " [[ 5  6  7  8  9]]\n",
            "\n",
            " [[10 11 12 13 14]]]\n"
          ],
          "name": "stdout"
        },
        {
          "output_type": "execute_result",
          "data": {
            "text/plain": [
              "array([ 0,  1,  2,  3,  4,  5,  6,  7,  8,  9, 10, 11, 12, 13, 14])"
            ]
          },
          "metadata": {
            "tags": []
          },
          "execution_count": 16
        }
      ]
    },
    {
      "cell_type": "markdown",
      "metadata": {
        "id": "5xLm0cPeWht7"
      },
      "source": [
        "## Question:6"
      ]
    },
    {
      "cell_type": "markdown",
      "metadata": {
        "id": "V9JIXjO5Wht7"
      },
      "source": [
        "### Convert one dimension to higher dimension?"
      ]
    },
    {
      "cell_type": "markdown",
      "metadata": {
        "id": "9LfDgaFVWht8"
      },
      "source": [
        "#### Desired Output::"
      ]
    },
    {
      "cell_type": "markdown",
      "metadata": {
        "id": "gEaY_kHOWht9"
      },
      "source": [
        "array([[ 0, 1, 2],\n",
        "[ 3, 4, 5],\n",
        "[ 6, 7, 8],\n",
        "[ 9, 10, 11],\n",
        "[12, 13, 14]])"
      ]
    },
    {
      "cell_type": "code",
      "metadata": {
        "id": "_4XPsyhrWht9",
        "colab": {
          "base_uri": "https://localhost:8080/"
        },
        "outputId": "9a8f3fcb-8df6-4442-c589-30df3d5c7d82"
      },
      "source": [
        "arr3 = np.arange(15)\n",
        "arr3.reshape(1,5,3)"
      ],
      "execution_count": 22,
      "outputs": [
        {
          "output_type": "execute_result",
          "data": {
            "text/plain": [
              "array([[[ 0,  1,  2],\n",
              "        [ 3,  4,  5],\n",
              "        [ 6,  7,  8],\n",
              "        [ 9, 10, 11],\n",
              "        [12, 13, 14]]])"
            ]
          },
          "metadata": {
            "tags": []
          },
          "execution_count": 22
        }
      ]
    },
    {
      "cell_type": "markdown",
      "metadata": {
        "id": "Vb-AXlchWht-"
      },
      "source": [
        "## Question:7"
      ]
    },
    {
      "cell_type": "markdown",
      "metadata": {
        "id": "TwVGt8z_Wht_"
      },
      "source": [
        "### Create 5x5 an array and find the square of an array?"
      ]
    },
    {
      "cell_type": "code",
      "metadata": {
        "id": "MH6EXFDJWhuA",
        "colab": {
          "base_uri": "https://localhost:8080/"
        },
        "outputId": "be9afda6-2fd4-44f8-ca71-c146804463f5"
      },
      "source": [
        "arr4 = np.arange(25).reshape(5, 5)\n",
        "np.square(arr4)"
      ],
      "execution_count": 23,
      "outputs": [
        {
          "output_type": "execute_result",
          "data": {
            "text/plain": [
              "array([[  0,   1,   4,   9,  16],\n",
              "       [ 25,  36,  49,  64,  81],\n",
              "       [100, 121, 144, 169, 196],\n",
              "       [225, 256, 289, 324, 361],\n",
              "       [400, 441, 484, 529, 576]])"
            ]
          },
          "metadata": {
            "tags": []
          },
          "execution_count": 23
        }
      ]
    },
    {
      "cell_type": "markdown",
      "metadata": {
        "id": "ESkabxmhWhuB"
      },
      "source": [
        "## Question:8"
      ]
    },
    {
      "cell_type": "markdown",
      "metadata": {
        "id": "HAWnHBNKWhuD"
      },
      "source": [
        "### Create 5x6 an array and find the mean?"
      ]
    },
    {
      "cell_type": "code",
      "metadata": {
        "id": "2yaOnw0aWhuD",
        "colab": {
          "base_uri": "https://localhost:8080/"
        },
        "outputId": "2eca7639-9cb7-4be5-cf74-c8fe3228d3f8"
      },
      "source": [
        "arr5 = np.arange(30).reshape(5, 6)\n",
        "np.mean(arr5)"
      ],
      "execution_count": 24,
      "outputs": [
        {
          "output_type": "execute_result",
          "data": {
            "text/plain": [
              "14.5"
            ]
          },
          "metadata": {
            "tags": []
          },
          "execution_count": 24
        }
      ]
    },
    {
      "cell_type": "markdown",
      "metadata": {
        "id": "O0GyJS4FWhuE"
      },
      "source": [
        "## Question:9"
      ]
    },
    {
      "cell_type": "markdown",
      "metadata": {
        "id": "w6d4OE5sWhuH"
      },
      "source": [
        "### Find the standard deviation of the previous array in Q8?"
      ]
    },
    {
      "cell_type": "code",
      "metadata": {
        "id": "igZYnF09WhuH",
        "colab": {
          "base_uri": "https://localhost:8080/"
        },
        "outputId": "7c410932-39a0-42f6-ac94-1366ca1b0b78"
      },
      "source": [
        "np.std(arr5)"
      ],
      "execution_count": 25,
      "outputs": [
        {
          "output_type": "execute_result",
          "data": {
            "text/plain": [
              "8.65544144839919"
            ]
          },
          "metadata": {
            "tags": []
          },
          "execution_count": 25
        }
      ]
    },
    {
      "cell_type": "markdown",
      "metadata": {
        "id": "xDmgYIN1WhuJ"
      },
      "source": [
        "## Question:10"
      ]
    },
    {
      "cell_type": "markdown",
      "metadata": {
        "id": "P48oyyAqWhuK"
      },
      "source": [
        "### Find the median of the previous array in Q8?"
      ]
    },
    {
      "cell_type": "code",
      "metadata": {
        "id": "F0yIT1hDWhuL",
        "colab": {
          "base_uri": "https://localhost:8080/"
        },
        "outputId": "91bfa8fe-7f65-4388-d782-3f98ef250b9d"
      },
      "source": [
        "np.median(arr5)"
      ],
      "execution_count": 26,
      "outputs": [
        {
          "output_type": "execute_result",
          "data": {
            "text/plain": [
              "14.5"
            ]
          },
          "metadata": {
            "tags": []
          },
          "execution_count": 26
        }
      ]
    },
    {
      "cell_type": "markdown",
      "metadata": {
        "id": "aX8U8UpxWhuR"
      },
      "source": [
        "## Question:11"
      ]
    },
    {
      "cell_type": "markdown",
      "metadata": {
        "id": "K9ukZN7jWhuS"
      },
      "source": [
        "### Find the transpose of the previous array in Q8?"
      ]
    },
    {
      "cell_type": "code",
      "metadata": {
        "id": "8fVMlF2NWhuT",
        "colab": {
          "base_uri": "https://localhost:8080/"
        },
        "outputId": "c7907bd9-529d-4cda-e98e-bf76fc068822"
      },
      "source": [
        "np.transpose(arr5)"
      ],
      "execution_count": 27,
      "outputs": [
        {
          "output_type": "execute_result",
          "data": {
            "text/plain": [
              "array([[ 0,  6, 12, 18, 24],\n",
              "       [ 1,  7, 13, 19, 25],\n",
              "       [ 2,  8, 14, 20, 26],\n",
              "       [ 3,  9, 15, 21, 27],\n",
              "       [ 4, 10, 16, 22, 28],\n",
              "       [ 5, 11, 17, 23, 29]])"
            ]
          },
          "metadata": {
            "tags": []
          },
          "execution_count": 27
        }
      ]
    },
    {
      "cell_type": "markdown",
      "metadata": {
        "id": "15jpWFnaWhuX"
      },
      "source": [
        "## Question:12"
      ]
    },
    {
      "cell_type": "markdown",
      "metadata": {
        "id": "hukf3uqAWhuY"
      },
      "source": [
        "### Create a 4x4 an array and find the sum of diagonal elements?"
      ]
    },
    {
      "cell_type": "code",
      "metadata": {
        "id": "9vH51CS7WhuZ",
        "colab": {
          "base_uri": "https://localhost:8080/"
        },
        "outputId": "5b43f8a8-f7aa-4141-b378-a0db4f5aaad4"
      },
      "source": [
        "arr6 = np.arange(16).reshape(4, 4)\n",
        "print(arr6)\n",
        "d = sum(np.diagonal(arr6))\n",
        "print(d)\n"
      ],
      "execution_count": 31,
      "outputs": [
        {
          "output_type": "stream",
          "text": [
            "[[ 0  1  2  3]\n",
            " [ 4  5  6  7]\n",
            " [ 8  9 10 11]\n",
            " [12 13 14 15]]\n",
            "30\n"
          ],
          "name": "stdout"
        }
      ]
    },
    {
      "cell_type": "markdown",
      "metadata": {
        "id": "eKXBR-HbWhuf"
      },
      "source": [
        "## Question:13"
      ]
    },
    {
      "cell_type": "markdown",
      "metadata": {
        "id": "cWBHKJP-Whug"
      },
      "source": [
        "### Find the determinant of the previous array in Q12?"
      ]
    },
    {
      "cell_type": "code",
      "metadata": {
        "id": "YqClagZ1Whuh",
        "colab": {
          "base_uri": "https://localhost:8080/"
        },
        "outputId": "54b5be49-1fee-463e-e720-88366293da75"
      },
      "source": [
        "np.linalg.det(arr6)"
      ],
      "execution_count": 32,
      "outputs": [
        {
          "output_type": "execute_result",
          "data": {
            "text/plain": [
              "0.0"
            ]
          },
          "metadata": {
            "tags": []
          },
          "execution_count": 32
        }
      ]
    },
    {
      "cell_type": "markdown",
      "metadata": {
        "id": "3nbkDWeBWhuh"
      },
      "source": [
        "## Question:14"
      ]
    },
    {
      "cell_type": "markdown",
      "metadata": {
        "id": "kD57zLKuWhuh"
      },
      "source": [
        "### Find the 5th and 95th percentile of an array?"
      ]
    },
    {
      "cell_type": "code",
      "metadata": {
        "id": "BBSRffwNWhui",
        "colab": {
          "base_uri": "https://localhost:8080/"
        },
        "outputId": "968f5d58-d029-431f-edba-b7fb16eeb6f5"
      },
      "source": [
        "arr7 =np.random.randn(3,3)\n",
        "print(np.percentile(arr7,5))\n",
        "print(np.percentile(arr7, 95))"
      ],
      "execution_count": 35,
      "outputs": [
        {
          "output_type": "stream",
          "text": [
            "-0.9114481980122461\n",
            "1.7101438190778033\n"
          ],
          "name": "stdout"
        }
      ]
    },
    {
      "cell_type": "markdown",
      "metadata": {
        "id": "-wmHD_qTWhuj"
      },
      "source": [
        "## Question:15"
      ]
    },
    {
      "cell_type": "markdown",
      "metadata": {
        "id": "vGr_FSyaWhuj"
      },
      "source": [
        "### How to find if a given array has any null values?"
      ]
    },
    {
      "cell_type": "code",
      "metadata": {
        "id": "_PZJytVbWhuk",
        "colab": {
          "base_uri": "https://localhost:8080/"
        },
        "outputId": "f533c7b1-c78a-4340-e7ca-847fe4011cc2"
      },
      "source": [
        "arr8 = np.empty(10)\n",
        "\n",
        "print (arr8)\n",
        "np.any(arr8)"
      ],
      "execution_count": 44,
      "outputs": [
        {
          "output_type": "stream",
          "text": [
            "[0. 0. 0. 0. 0. 0. 0. 0. 0. 0.]\n"
          ],
          "name": "stdout"
        },
        {
          "output_type": "execute_result",
          "data": {
            "text/plain": [
              "False"
            ]
          },
          "metadata": {
            "tags": []
          },
          "execution_count": 44
        }
      ]
    },
    {
      "cell_type": "code",
      "metadata": {
        "id": "2B2AJOR2qOkc"
      },
      "source": [
        ""
      ],
      "execution_count": null,
      "outputs": []
    }
  ]
}