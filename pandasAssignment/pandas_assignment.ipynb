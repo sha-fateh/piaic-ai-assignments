{
  "nbformat": 4,
  "nbformat_minor": 0,
  "metadata": {
    "colab": {
      "name": "pandas_assignment.ipynb",
      "provenance": [],
      "collapsed_sections": [],
      "toc_visible": true
    },
    "kernelspec": {
      "name": "python3",
      "display_name": "Python 3"
    }
  },
  "cells": [
    {
      "cell_type": "code",
      "metadata": {
        "id": "34MJpHvNS1q_"
      },
      "source": [
        "import pandas as pd\r\n",
        "import numpy as np\r\n",
        "import matplotlib.pyplot as plt"
      ],
      "execution_count": 127,
      "outputs": []
    },
    {
      "cell_type": "markdown",
      "metadata": {
        "id": "_QSx8IJpcxcA"
      },
      "source": [
        "# Pandas Assignment Part 1"
      ]
    },
    {
      "cell_type": "markdown",
      "metadata": {
        "id": "motid3gtjAnn"
      },
      "source": [
        "loading the datasets"
      ]
    },
    {
      "cell_type": "code",
      "metadata": {
        "id": "A3ELRa2RcVKl"
      },
      "source": [
        "ds0 =pd.read_csv('states0.csv')\r\n",
        "ds1 =pd.read_csv('states1.csv')\r\n",
        "ds2 =pd.read_csv('states2.csv')\r\n",
        "ds3 =pd.read_csv('states3.csv')\r\n",
        "ds4 =pd.read_csv('states4.csv')\r\n",
        "ds5 =pd.read_csv('states5.csv')\r\n",
        "ds6 =pd.read_csv('states6.csv')\r\n",
        "ds7 =pd.read_csv('states7.csv')\r\n",
        "ds8 =pd.read_csv('states8.csv')\r\n",
        "ds9 =pd.read_csv('states9.csv')\r\n"
      ],
      "execution_count": 128,
      "outputs": []
    },
    {
      "cell_type": "code",
      "metadata": {
        "id": "OfdEmHGceV3S",
        "colab": {
          "base_uri": "https://localhost:8080/",
          "height": 241
        },
        "outputId": "9d5ad215-a285-442c-c461-b099fc914cd5"
      },
      "source": [
        "ds0.head()"
      ],
      "execution_count": 129,
      "outputs": [
        {
          "output_type": "execute_result",
          "data": {
            "text/html": [
              "<div>\n",
              "<style scoped>\n",
              "    .dataframe tbody tr th:only-of-type {\n",
              "        vertical-align: middle;\n",
              "    }\n",
              "\n",
              "    .dataframe tbody tr th {\n",
              "        vertical-align: top;\n",
              "    }\n",
              "\n",
              "    .dataframe thead th {\n",
              "        text-align: right;\n",
              "    }\n",
              "</style>\n",
              "<table border=\"1\" class=\"dataframe\">\n",
              "  <thead>\n",
              "    <tr style=\"text-align: right;\">\n",
              "      <th></th>\n",
              "      <th>Unnamed: 0</th>\n",
              "      <th>State</th>\n",
              "      <th>TotalPop</th>\n",
              "      <th>Hispanic</th>\n",
              "      <th>White</th>\n",
              "      <th>Black</th>\n",
              "      <th>Native</th>\n",
              "      <th>Asian</th>\n",
              "      <th>Pacific</th>\n",
              "      <th>Income</th>\n",
              "      <th>GenderPop</th>\n",
              "    </tr>\n",
              "  </thead>\n",
              "  <tbody>\n",
              "    <tr>\n",
              "      <th>0</th>\n",
              "      <td>0</td>\n",
              "      <td>Alabama</td>\n",
              "      <td>4830620</td>\n",
              "      <td>3.7516156462584975%</td>\n",
              "      <td>61.878656462585%</td>\n",
              "      <td>31.25297619047618%</td>\n",
              "      <td>0.4532312925170065%</td>\n",
              "      <td>1.0502551020408146%</td>\n",
              "      <td>0.03435374149659865%</td>\n",
              "      <td>$43296.35860306644</td>\n",
              "      <td>2341093M_2489527F</td>\n",
              "    </tr>\n",
              "    <tr>\n",
              "      <th>1</th>\n",
              "      <td>1</td>\n",
              "      <td>Alaska</td>\n",
              "      <td>733375</td>\n",
              "      <td>5.909580838323351%</td>\n",
              "      <td>60.910179640718574%</td>\n",
              "      <td>2.8485029940119775%</td>\n",
              "      <td>16.39101796407186%</td>\n",
              "      <td>5.450299401197604%</td>\n",
              "      <td>1.0586826347305378%</td>\n",
              "      <td>$70354.74390243902</td>\n",
              "      <td>384160M_349215F</td>\n",
              "    </tr>\n",
              "    <tr>\n",
              "      <th>2</th>\n",
              "      <td>2</td>\n",
              "      <td>Arizona</td>\n",
              "      <td>6641928</td>\n",
              "      <td>29.565921052631502%</td>\n",
              "      <td>57.120000000000026%</td>\n",
              "      <td>3.8509868421052658%</td>\n",
              "      <td>4.35506578947368%</td>\n",
              "      <td>2.876578947368419%</td>\n",
              "      <td>0.16763157894736833%</td>\n",
              "      <td>$54207.82095490716</td>\n",
              "      <td>3299088M_3342840F</td>\n",
              "    </tr>\n",
              "    <tr>\n",
              "      <th>3</th>\n",
              "      <td>3</td>\n",
              "      <td>Arkansas</td>\n",
              "      <td>2958208</td>\n",
              "      <td>6.215474452554738%</td>\n",
              "      <td>71.13781021897813%</td>\n",
              "      <td>18.968759124087573%</td>\n",
              "      <td>0.5229197080291965%</td>\n",
              "      <td>1.1423357664233578%</td>\n",
              "      <td>0.14686131386861315%</td>\n",
              "      <td>$41935.63396778917</td>\n",
              "      <td>1451913M_1506295F</td>\n",
              "    </tr>\n",
              "    <tr>\n",
              "      <th>4</th>\n",
              "      <td>4</td>\n",
              "      <td>California</td>\n",
              "      <td>38421464</td>\n",
              "      <td>37.291874687968054%</td>\n",
              "      <td>40.21578881677474%</td>\n",
              "      <td>5.677396405391911%</td>\n",
              "      <td>0.40529206190713685%</td>\n",
              "      <td>13.052234148776776%</td>\n",
              "      <td>0.35141038442336353%</td>\n",
              "      <td>$67264.78230266465</td>\n",
              "      <td>19087135M_19334329F</td>\n",
              "    </tr>\n",
              "  </tbody>\n",
              "</table>\n",
              "</div>"
            ],
            "text/plain": [
              "   Unnamed: 0       State  ...              Income            GenderPop\n",
              "0           0     Alabama  ...  $43296.35860306644    2341093M_2489527F\n",
              "1           1      Alaska  ...  $70354.74390243902      384160M_349215F\n",
              "2           2     Arizona  ...  $54207.82095490716    3299088M_3342840F\n",
              "3           3    Arkansas  ...  $41935.63396778917    1451913M_1506295F\n",
              "4           4  California  ...  $67264.78230266465  19087135M_19334329F\n",
              "\n",
              "[5 rows x 11 columns]"
            ]
          },
          "metadata": {
            "tags": []
          },
          "execution_count": 129
        }
      ]
    },
    {
      "cell_type": "code",
      "metadata": {
        "id": "kWhjITAAeYWt",
        "colab": {
          "base_uri": "https://localhost:8080/",
          "height": 258
        },
        "outputId": "ac7d4a6f-82db-4e82-aff4-b113165c3a6d"
      },
      "source": [
        "ds1.head()"
      ],
      "execution_count": 130,
      "outputs": [
        {
          "output_type": "execute_result",
          "data": {
            "text/html": [
              "<div>\n",
              "<style scoped>\n",
              "    .dataframe tbody tr th:only-of-type {\n",
              "        vertical-align: middle;\n",
              "    }\n",
              "\n",
              "    .dataframe tbody tr th {\n",
              "        vertical-align: top;\n",
              "    }\n",
              "\n",
              "    .dataframe thead th {\n",
              "        text-align: right;\n",
              "    }\n",
              "</style>\n",
              "<table border=\"1\" class=\"dataframe\">\n",
              "  <thead>\n",
              "    <tr style=\"text-align: right;\">\n",
              "      <th></th>\n",
              "      <th>Unnamed: 0</th>\n",
              "      <th>State</th>\n",
              "      <th>TotalPop</th>\n",
              "      <th>Hispanic</th>\n",
              "      <th>White</th>\n",
              "      <th>Black</th>\n",
              "      <th>Native</th>\n",
              "      <th>Asian</th>\n",
              "      <th>Pacific</th>\n",
              "      <th>Income</th>\n",
              "      <th>GenderPop</th>\n",
              "    </tr>\n",
              "  </thead>\n",
              "  <tbody>\n",
              "    <tr>\n",
              "      <th>0</th>\n",
              "      <td>0</td>\n",
              "      <td>Colorado</td>\n",
              "      <td>5278906</td>\n",
              "      <td>20.78438003220608%</td>\n",
              "      <td>69.89557165861504%</td>\n",
              "      <td>3.546376811594201%</td>\n",
              "      <td>0.5738325281803548%</td>\n",
              "      <td>2.661996779388082%</td>\n",
              "      <td>NaN</td>\n",
              "      <td>$64657.801787164906</td>\n",
              "      <td>2648667M_2630239F</td>\n",
              "    </tr>\n",
              "    <tr>\n",
              "      <th>1</th>\n",
              "      <td>1</td>\n",
              "      <td>Connecticut</td>\n",
              "      <td>3593222</td>\n",
              "      <td>15.604830917874388%</td>\n",
              "      <td>67.6770531400966%</td>\n",
              "      <td>10.34806763285027%</td>\n",
              "      <td>0.12620772946859898%</td>\n",
              "      <td>4.021980676328502%</td>\n",
              "      <td>0.018599033816425123%</td>\n",
              "      <td>$76146.5605875153</td>\n",
              "      <td>1751607M_1841615F</td>\n",
              "    </tr>\n",
              "    <tr>\n",
              "      <th>2</th>\n",
              "      <td>2</td>\n",
              "      <td>Delaware</td>\n",
              "      <td>926454</td>\n",
              "      <td>8.82476635514019%</td>\n",
              "      <td>64.63271028037383%</td>\n",
              "      <td>20.743925233644834%</td>\n",
              "      <td>0.25981308411214965%</td>\n",
              "      <td>3.2686915887850483%</td>\n",
              "      <td>NaN</td>\n",
              "      <td>$61827.97663551402</td>\n",
              "      <td>448413M_478041F</td>\n",
              "    </tr>\n",
              "    <tr>\n",
              "      <th>3</th>\n",
              "      <td>3</td>\n",
              "      <td>District of Columbia</td>\n",
              "      <td>647484</td>\n",
              "      <td>9.165921787709499%</td>\n",
              "      <td>33.103910614525134%</td>\n",
              "      <td>51.77653631284915%</td>\n",
              "      <td>0.20055865921787713%</td>\n",
              "      <td>3.3832402234636865%</td>\n",
              "      <td>0.029608938547486034%</td>\n",
              "      <td>$75466.36363636363</td>\n",
              "      <td>306674M_340810F</td>\n",
              "    </tr>\n",
              "    <tr>\n",
              "      <th>4</th>\n",
              "      <td>4</td>\n",
              "      <td>Florida</td>\n",
              "      <td>19645772</td>\n",
              "      <td>21.3385426653884%</td>\n",
              "      <td>59.08374880153398%</td>\n",
              "      <td>15.165675934803444%</td>\n",
              "      <td>0.2104506232023015%</td>\n",
              "      <td>2.2831735378715257%</td>\n",
              "      <td>0.05151006711409391%</td>\n",
              "      <td>$50690.194986743794</td>\n",
              "      <td>9600009M_10045763F</td>\n",
              "    </tr>\n",
              "  </tbody>\n",
              "</table>\n",
              "</div>"
            ],
            "text/plain": [
              "   Unnamed: 0                 State  ...               Income           GenderPop\n",
              "0           0              Colorado  ...  $64657.801787164906   2648667M_2630239F\n",
              "1           1           Connecticut  ...    $76146.5605875153   1751607M_1841615F\n",
              "2           2              Delaware  ...   $61827.97663551402     448413M_478041F\n",
              "3           3  District of Columbia  ...   $75466.36363636363     306674M_340810F\n",
              "4           4               Florida  ...  $50690.194986743794  9600009M_10045763F\n",
              "\n",
              "[5 rows x 11 columns]"
            ]
          },
          "metadata": {
            "tags": []
          },
          "execution_count": 130
        }
      ]
    },
    {
      "cell_type": "code",
      "metadata": {
        "colab": {
          "base_uri": "https://localhost:8080/",
          "height": 241
        },
        "id": "lfIvjUVfavfe",
        "outputId": "e645ed77-2319-478e-ea55-a032f9913d2c"
      },
      "source": [
        "ds2.head()"
      ],
      "execution_count": 131,
      "outputs": [
        {
          "output_type": "execute_result",
          "data": {
            "text/html": [
              "<div>\n",
              "<style scoped>\n",
              "    .dataframe tbody tr th:only-of-type {\n",
              "        vertical-align: middle;\n",
              "    }\n",
              "\n",
              "    .dataframe tbody tr th {\n",
              "        vertical-align: top;\n",
              "    }\n",
              "\n",
              "    .dataframe thead th {\n",
              "        text-align: right;\n",
              "    }\n",
              "</style>\n",
              "<table border=\"1\" class=\"dataframe\">\n",
              "  <thead>\n",
              "    <tr style=\"text-align: right;\">\n",
              "      <th></th>\n",
              "      <th>Unnamed: 0</th>\n",
              "      <th>State</th>\n",
              "      <th>TotalPop</th>\n",
              "      <th>Hispanic</th>\n",
              "      <th>White</th>\n",
              "      <th>Black</th>\n",
              "      <th>Native</th>\n",
              "      <th>Asian</th>\n",
              "      <th>Pacific</th>\n",
              "      <th>Income</th>\n",
              "      <th>GenderPop</th>\n",
              "    </tr>\n",
              "  </thead>\n",
              "  <tbody>\n",
              "    <tr>\n",
              "      <th>0</th>\n",
              "      <td>0</td>\n",
              "      <td>Georgia</td>\n",
              "      <td>10006693</td>\n",
              "      <td>8.418242207460397%</td>\n",
              "      <td>54.28630556974962%</td>\n",
              "      <td>32.08829841594277%</td>\n",
              "      <td>0.18758303525804798%</td>\n",
              "      <td>3.0976494634644895%</td>\n",
              "      <td>0.046601941747572824%</td>\n",
              "      <td>$50811.08205128205</td>\n",
              "      <td>4883331M_5123362F</td>\n",
              "    </tr>\n",
              "    <tr>\n",
              "      <th>1</th>\n",
              "      <td>1</td>\n",
              "      <td>Hawaii</td>\n",
              "      <td>1406299</td>\n",
              "      <td>9.186708860759486%</td>\n",
              "      <td>25.032278481012657%</td>\n",
              "      <td>2.052848101265823%</td>\n",
              "      <td>0.1449367088607596%</td>\n",
              "      <td>36.59208860759495%</td>\n",
              "      <td>8.758860759493672%</td>\n",
              "      <td>$73264.42628205128</td>\n",
              "      <td>709871M_696428F</td>\n",
              "    </tr>\n",
              "    <tr>\n",
              "      <th>2</th>\n",
              "      <td>2</td>\n",
              "      <td>Idaho</td>\n",
              "      <td>1616547</td>\n",
              "      <td>11.505369127516781%</td>\n",
              "      <td>83.1362416107383%</td>\n",
              "      <td>0.5667785234899323%</td>\n",
              "      <td>1.468120805369128%</td>\n",
              "      <td>1.135906040268457%</td>\n",
              "      <td>0.1271812080536914%</td>\n",
              "      <td>$48017.31543624161</td>\n",
              "      <td>810464M_806083F</td>\n",
              "    </tr>\n",
              "    <tr>\n",
              "      <th>3</th>\n",
              "      <td>3</td>\n",
              "      <td>Illinois</td>\n",
              "      <td>12873761</td>\n",
              "      <td>15.601733547351516%</td>\n",
              "      <td>60.85980738362764%</td>\n",
              "      <td>17.108410914927717%</td>\n",
              "      <td>0.11842696629213499%</td>\n",
              "      <td>4.475377207062604%</td>\n",
              "      <td>0.02003210272873195%</td>\n",
              "      <td>$59587.04887459807</td>\n",
              "      <td>6316899M_6556862F</td>\n",
              "    </tr>\n",
              "    <tr>\n",
              "      <th>4</th>\n",
              "      <td>4</td>\n",
              "      <td>Indiana</td>\n",
              "      <td>6568645</td>\n",
              "      <td>6.536744186046501%</td>\n",
              "      <td>78.43189368770771%</td>\n",
              "      <td>11.18697674418606%</td>\n",
              "      <td>0.1940863787375415%</td>\n",
              "      <td>1.5782724252491687%</td>\n",
              "      <td>0.03262458471760798%</td>\n",
              "      <td>$48616.22784810127</td>\n",
              "      <td>3235263M_3333382F</td>\n",
              "    </tr>\n",
              "  </tbody>\n",
              "</table>\n",
              "</div>"
            ],
            "text/plain": [
              "   Unnamed: 0     State  ...              Income          GenderPop\n",
              "0           0   Georgia  ...  $50811.08205128205  4883331M_5123362F\n",
              "1           1    Hawaii  ...  $73264.42628205128    709871M_696428F\n",
              "2           2     Idaho  ...  $48017.31543624161    810464M_806083F\n",
              "3           3  Illinois  ...  $59587.04887459807  6316899M_6556862F\n",
              "4           4   Indiana  ...  $48616.22784810127  3235263M_3333382F\n",
              "\n",
              "[5 rows x 11 columns]"
            ]
          },
          "metadata": {
            "tags": []
          },
          "execution_count": 131
        }
      ]
    },
    {
      "cell_type": "code",
      "metadata": {
        "colab": {
          "base_uri": "https://localhost:8080/",
          "height": 258
        },
        "id": "xG3In0L57fCX",
        "outputId": "856f6c7d-b00c-4b5d-e5ff-abd80ede05d1"
      },
      "source": [
        "ds9.head()"
      ],
      "execution_count": 132,
      "outputs": [
        {
          "output_type": "execute_result",
          "data": {
            "text/html": [
              "<div>\n",
              "<style scoped>\n",
              "    .dataframe tbody tr th:only-of-type {\n",
              "        vertical-align: middle;\n",
              "    }\n",
              "\n",
              "    .dataframe tbody tr th {\n",
              "        vertical-align: top;\n",
              "    }\n",
              "\n",
              "    .dataframe thead th {\n",
              "        text-align: right;\n",
              "    }\n",
              "</style>\n",
              "<table border=\"1\" class=\"dataframe\">\n",
              "  <thead>\n",
              "    <tr style=\"text-align: right;\">\n",
              "      <th></th>\n",
              "      <th>Unnamed: 0</th>\n",
              "      <th>State</th>\n",
              "      <th>TotalPop</th>\n",
              "      <th>Hispanic</th>\n",
              "      <th>White</th>\n",
              "      <th>Black</th>\n",
              "      <th>Native</th>\n",
              "      <th>Asian</th>\n",
              "      <th>Pacific</th>\n",
              "      <th>Income</th>\n",
              "      <th>GenderPop</th>\n",
              "    </tr>\n",
              "  </thead>\n",
              "  <tbody>\n",
              "    <tr>\n",
              "      <th>0</th>\n",
              "      <td>0</td>\n",
              "      <td>Utah</td>\n",
              "      <td>2903379</td>\n",
              "      <td>13.468376068376063%</td>\n",
              "      <td>79.40683760683764%</td>\n",
              "      <td>1.0179487179487194%</td>\n",
              "      <td>1.0813675213675222%</td>\n",
              "      <td>2.196068376068376%</td>\n",
              "      <td>0.8259829059829059%</td>\n",
              "      <td>$63488.91780821918</td>\n",
              "      <td>1459229M_1444150F</td>\n",
              "    </tr>\n",
              "    <tr>\n",
              "      <th>1</th>\n",
              "      <td>1</td>\n",
              "      <td>Vermont</td>\n",
              "      <td>626604</td>\n",
              "      <td>1.6092896174863391%</td>\n",
              "      <td>93.98306010928961%</td>\n",
              "      <td>0.9808743169398909%</td>\n",
              "      <td>0.301639344262295%</td>\n",
              "      <td>1.2387978142076501%</td>\n",
              "      <td>0.03060109289617486%</td>\n",
              "      <td>$55602.96721311475</td>\n",
              "      <td>308573M_318031F</td>\n",
              "    </tr>\n",
              "    <tr>\n",
              "      <th>2</th>\n",
              "      <td>2</td>\n",
              "      <td>Virginia</td>\n",
              "      <td>8256630</td>\n",
              "      <td>8.0110164981373%</td>\n",
              "      <td>63.271048430015945%</td>\n",
              "      <td>20.17599787120807%</td>\n",
              "      <td>0.21245343267695582%</td>\n",
              "      <td>5.455242150079845%</td>\n",
              "      <td>0.06471527408195847%</td>\n",
              "      <td>$72866.01341201717</td>\n",
              "      <td>4060948M_4195682F</td>\n",
              "    </tr>\n",
              "    <tr>\n",
              "      <th>3</th>\n",
              "      <td>3</td>\n",
              "      <td>Washington</td>\n",
              "      <td>6985464</td>\n",
              "      <td>11.140968858131506%</td>\n",
              "      <td>72.03840830449816%</td>\n",
              "      <td>3.384429065743947%</td>\n",
              "      <td>1.4107266435986163%</td>\n",
              "      <td>7.022006920415224%</td>\n",
              "      <td>0.609896193771627%</td>\n",
              "      <td>$64493.76768377254</td>\n",
              "      <td>3487725M_3497739F</td>\n",
              "    </tr>\n",
              "    <tr>\n",
              "      <th>4</th>\n",
              "      <td>4</td>\n",
              "      <td>West Virginia</td>\n",
              "      <td>1851420</td>\n",
              "      <td>1.290909090909089%</td>\n",
              "      <td>92.17623966942146%</td>\n",
              "      <td>3.6628099173553723%</td>\n",
              "      <td>0.15268595041322316%</td>\n",
              "      <td>0.6824380165289253%</td>\n",
              "      <td>0.02644628099173554%</td>\n",
              "      <td>$41437.11157024794</td>\n",
              "      <td>913631M_937789F</td>\n",
              "    </tr>\n",
              "  </tbody>\n",
              "</table>\n",
              "</div>"
            ],
            "text/plain": [
              "   Unnamed: 0          State  ...              Income          GenderPop\n",
              "0           0           Utah  ...  $63488.91780821918  1459229M_1444150F\n",
              "1           1        Vermont  ...  $55602.96721311475    308573M_318031F\n",
              "2           2       Virginia  ...  $72866.01341201717  4060948M_4195682F\n",
              "3           3     Washington  ...  $64493.76768377254  3487725M_3497739F\n",
              "4           4  West Virginia  ...  $41437.11157024794    913631M_937789F\n",
              "\n",
              "[5 rows x 11 columns]"
            ]
          },
          "metadata": {
            "tags": []
          },
          "execution_count": 132
        }
      ]
    },
    {
      "cell_type": "markdown",
      "metadata": {
        "id": "6kKnYK-3bN1a"
      },
      "source": [
        "# 1.\n",
        "The csv(s) have  state, total population, the different ethnicities as columns, income and Gender . And on rows we have the data for the for the different states according to the total population and the different ethnicites"
      ]
    },
    {
      "cell_type": "markdown",
      "metadata": {
        "id": "1Cf7rqIRhS2E"
      },
      "source": [
        "# 2. \r\n",
        "making a single us_census DataFrame"
      ]
    },
    {
      "cell_type": "code",
      "metadata": {
        "id": "oT2cUieEjglf"
      },
      "source": [
        "import glob\n",
        "\n",
        "all_files= sorted(glob.glob('states*.csv'))"
      ],
      "execution_count": 133,
      "outputs": []
    },
    {
      "cell_type": "code",
      "metadata": {
        "id": "dtvRt7wV1M9s"
      },
      "source": [
        "us_census= pd.concat((pd.read_csv(f) for f in all_files), ignore_index=True)"
      ],
      "execution_count": 134,
      "outputs": []
    },
    {
      "cell_type": "code",
      "metadata": {
        "id": "u5EKWqob1OoQ",
        "colab": {
          "base_uri": "https://localhost:8080/",
          "height": 241
        },
        "outputId": "f674750a-ed3a-4a1a-cd11-918d22d2fb3a"
      },
      "source": [
        "us_census.head()"
      ],
      "execution_count": 135,
      "outputs": [
        {
          "output_type": "execute_result",
          "data": {
            "text/html": [
              "<div>\n",
              "<style scoped>\n",
              "    .dataframe tbody tr th:only-of-type {\n",
              "        vertical-align: middle;\n",
              "    }\n",
              "\n",
              "    .dataframe tbody tr th {\n",
              "        vertical-align: top;\n",
              "    }\n",
              "\n",
              "    .dataframe thead th {\n",
              "        text-align: right;\n",
              "    }\n",
              "</style>\n",
              "<table border=\"1\" class=\"dataframe\">\n",
              "  <thead>\n",
              "    <tr style=\"text-align: right;\">\n",
              "      <th></th>\n",
              "      <th>Unnamed: 0</th>\n",
              "      <th>State</th>\n",
              "      <th>TotalPop</th>\n",
              "      <th>Hispanic</th>\n",
              "      <th>White</th>\n",
              "      <th>Black</th>\n",
              "      <th>Native</th>\n",
              "      <th>Asian</th>\n",
              "      <th>Pacific</th>\n",
              "      <th>Income</th>\n",
              "      <th>GenderPop</th>\n",
              "    </tr>\n",
              "  </thead>\n",
              "  <tbody>\n",
              "    <tr>\n",
              "      <th>0</th>\n",
              "      <td>0</td>\n",
              "      <td>Alabama</td>\n",
              "      <td>4830620</td>\n",
              "      <td>3.7516156462584975%</td>\n",
              "      <td>61.878656462585%</td>\n",
              "      <td>31.25297619047618%</td>\n",
              "      <td>0.4532312925170065%</td>\n",
              "      <td>1.0502551020408146%</td>\n",
              "      <td>0.03435374149659865%</td>\n",
              "      <td>$43296.35860306644</td>\n",
              "      <td>2341093M_2489527F</td>\n",
              "    </tr>\n",
              "    <tr>\n",
              "      <th>1</th>\n",
              "      <td>1</td>\n",
              "      <td>Alaska</td>\n",
              "      <td>733375</td>\n",
              "      <td>5.909580838323351%</td>\n",
              "      <td>60.910179640718574%</td>\n",
              "      <td>2.8485029940119775%</td>\n",
              "      <td>16.39101796407186%</td>\n",
              "      <td>5.450299401197604%</td>\n",
              "      <td>1.0586826347305378%</td>\n",
              "      <td>$70354.74390243902</td>\n",
              "      <td>384160M_349215F</td>\n",
              "    </tr>\n",
              "    <tr>\n",
              "      <th>2</th>\n",
              "      <td>2</td>\n",
              "      <td>Arizona</td>\n",
              "      <td>6641928</td>\n",
              "      <td>29.565921052631502%</td>\n",
              "      <td>57.120000000000026%</td>\n",
              "      <td>3.8509868421052658%</td>\n",
              "      <td>4.35506578947368%</td>\n",
              "      <td>2.876578947368419%</td>\n",
              "      <td>0.16763157894736833%</td>\n",
              "      <td>$54207.82095490716</td>\n",
              "      <td>3299088M_3342840F</td>\n",
              "    </tr>\n",
              "    <tr>\n",
              "      <th>3</th>\n",
              "      <td>3</td>\n",
              "      <td>Arkansas</td>\n",
              "      <td>2958208</td>\n",
              "      <td>6.215474452554738%</td>\n",
              "      <td>71.13781021897813%</td>\n",
              "      <td>18.968759124087573%</td>\n",
              "      <td>0.5229197080291965%</td>\n",
              "      <td>1.1423357664233578%</td>\n",
              "      <td>0.14686131386861315%</td>\n",
              "      <td>$41935.63396778917</td>\n",
              "      <td>1451913M_1506295F</td>\n",
              "    </tr>\n",
              "    <tr>\n",
              "      <th>4</th>\n",
              "      <td>4</td>\n",
              "      <td>California</td>\n",
              "      <td>38421464</td>\n",
              "      <td>37.291874687968054%</td>\n",
              "      <td>40.21578881677474%</td>\n",
              "      <td>5.677396405391911%</td>\n",
              "      <td>0.40529206190713685%</td>\n",
              "      <td>13.052234148776776%</td>\n",
              "      <td>0.35141038442336353%</td>\n",
              "      <td>$67264.78230266465</td>\n",
              "      <td>19087135M_19334329F</td>\n",
              "    </tr>\n",
              "  </tbody>\n",
              "</table>\n",
              "</div>"
            ],
            "text/plain": [
              "   Unnamed: 0       State  ...              Income            GenderPop\n",
              "0           0     Alabama  ...  $43296.35860306644    2341093M_2489527F\n",
              "1           1      Alaska  ...  $70354.74390243902      384160M_349215F\n",
              "2           2     Arizona  ...  $54207.82095490716    3299088M_3342840F\n",
              "3           3    Arkansas  ...  $41935.63396778917    1451913M_1506295F\n",
              "4           4  California  ...  $67264.78230266465  19087135M_19334329F\n",
              "\n",
              "[5 rows x 11 columns]"
            ]
          },
          "metadata": {
            "tags": []
          },
          "execution_count": 135
        }
      ]
    },
    {
      "cell_type": "code",
      "metadata": {
        "id": "2kNy_k5-6lS_",
        "colab": {
          "base_uri": "https://localhost:8080/"
        },
        "outputId": "bf0e8dbd-1f04-4e20-830d-3e189ecff104"
      },
      "source": [
        "us_census.columns"
      ],
      "execution_count": 136,
      "outputs": [
        {
          "output_type": "execute_result",
          "data": {
            "text/plain": [
              "Index(['Unnamed: 0', 'State', 'TotalPop', 'Hispanic', 'White', 'Black',\n",
              "       'Native', 'Asian', 'Pacific', 'Income', 'GenderPop'],\n",
              "      dtype='object')"
            ]
          },
          "metadata": {
            "tags": []
          },
          "execution_count": 136
        }
      ]
    },
    {
      "cell_type": "code",
      "metadata": {
        "id": "kLEUs7PS63E8",
        "colab": {
          "base_uri": "https://localhost:8080/"
        },
        "outputId": "37eb5e85-143a-45d4-8d08-8bab5d0dfc81"
      },
      "source": [
        "us_census.dtypes"
      ],
      "execution_count": 137,
      "outputs": [
        {
          "output_type": "execute_result",
          "data": {
            "text/plain": [
              "Unnamed: 0     int64\n",
              "State         object\n",
              "TotalPop       int64\n",
              "Hispanic      object\n",
              "White         object\n",
              "Black         object\n",
              "Native        object\n",
              "Asian         object\n",
              "Pacific       object\n",
              "Income        object\n",
              "GenderPop     object\n",
              "dtype: object"
            ]
          },
          "metadata": {
            "tags": []
          },
          "execution_count": 137
        }
      ]
    },
    {
      "cell_type": "markdown",
      "metadata": {
        "id": "OlSQFn8QBx5z"
      },
      "source": [
        "We have two different dtypesm int64 and object. We could convert all dtypes that show the data of into float64 , that would help us work with data more easily. Furthermore, we can split the data in gender column into males and females columns"
      ]
    },
    {
      "cell_type": "markdown",
      "metadata": {
        "id": "959lEiTQDl_d"
      },
      "source": [
        "# 4. \r\n",
        "\r\n",
        "* cheking the dataframe\r\n"
      ]
    },
    {
      "cell_type": "code",
      "metadata": {
        "colab": {
          "base_uri": "https://localhost:8080/",
          "height": 241
        },
        "id": "4r-P_AZGD7px",
        "outputId": "9e93150b-ec73-46ae-a87a-c49fdf521df4"
      },
      "source": [
        "us_census.head()"
      ],
      "execution_count": 138,
      "outputs": [
        {
          "output_type": "execute_result",
          "data": {
            "text/html": [
              "<div>\n",
              "<style scoped>\n",
              "    .dataframe tbody tr th:only-of-type {\n",
              "        vertical-align: middle;\n",
              "    }\n",
              "\n",
              "    .dataframe tbody tr th {\n",
              "        vertical-align: top;\n",
              "    }\n",
              "\n",
              "    .dataframe thead th {\n",
              "        text-align: right;\n",
              "    }\n",
              "</style>\n",
              "<table border=\"1\" class=\"dataframe\">\n",
              "  <thead>\n",
              "    <tr style=\"text-align: right;\">\n",
              "      <th></th>\n",
              "      <th>Unnamed: 0</th>\n",
              "      <th>State</th>\n",
              "      <th>TotalPop</th>\n",
              "      <th>Hispanic</th>\n",
              "      <th>White</th>\n",
              "      <th>Black</th>\n",
              "      <th>Native</th>\n",
              "      <th>Asian</th>\n",
              "      <th>Pacific</th>\n",
              "      <th>Income</th>\n",
              "      <th>GenderPop</th>\n",
              "    </tr>\n",
              "  </thead>\n",
              "  <tbody>\n",
              "    <tr>\n",
              "      <th>0</th>\n",
              "      <td>0</td>\n",
              "      <td>Alabama</td>\n",
              "      <td>4830620</td>\n",
              "      <td>3.7516156462584975%</td>\n",
              "      <td>61.878656462585%</td>\n",
              "      <td>31.25297619047618%</td>\n",
              "      <td>0.4532312925170065%</td>\n",
              "      <td>1.0502551020408146%</td>\n",
              "      <td>0.03435374149659865%</td>\n",
              "      <td>$43296.35860306644</td>\n",
              "      <td>2341093M_2489527F</td>\n",
              "    </tr>\n",
              "    <tr>\n",
              "      <th>1</th>\n",
              "      <td>1</td>\n",
              "      <td>Alaska</td>\n",
              "      <td>733375</td>\n",
              "      <td>5.909580838323351%</td>\n",
              "      <td>60.910179640718574%</td>\n",
              "      <td>2.8485029940119775%</td>\n",
              "      <td>16.39101796407186%</td>\n",
              "      <td>5.450299401197604%</td>\n",
              "      <td>1.0586826347305378%</td>\n",
              "      <td>$70354.74390243902</td>\n",
              "      <td>384160M_349215F</td>\n",
              "    </tr>\n",
              "    <tr>\n",
              "      <th>2</th>\n",
              "      <td>2</td>\n",
              "      <td>Arizona</td>\n",
              "      <td>6641928</td>\n",
              "      <td>29.565921052631502%</td>\n",
              "      <td>57.120000000000026%</td>\n",
              "      <td>3.8509868421052658%</td>\n",
              "      <td>4.35506578947368%</td>\n",
              "      <td>2.876578947368419%</td>\n",
              "      <td>0.16763157894736833%</td>\n",
              "      <td>$54207.82095490716</td>\n",
              "      <td>3299088M_3342840F</td>\n",
              "    </tr>\n",
              "    <tr>\n",
              "      <th>3</th>\n",
              "      <td>3</td>\n",
              "      <td>Arkansas</td>\n",
              "      <td>2958208</td>\n",
              "      <td>6.215474452554738%</td>\n",
              "      <td>71.13781021897813%</td>\n",
              "      <td>18.968759124087573%</td>\n",
              "      <td>0.5229197080291965%</td>\n",
              "      <td>1.1423357664233578%</td>\n",
              "      <td>0.14686131386861315%</td>\n",
              "      <td>$41935.63396778917</td>\n",
              "      <td>1451913M_1506295F</td>\n",
              "    </tr>\n",
              "    <tr>\n",
              "      <th>4</th>\n",
              "      <td>4</td>\n",
              "      <td>California</td>\n",
              "      <td>38421464</td>\n",
              "      <td>37.291874687968054%</td>\n",
              "      <td>40.21578881677474%</td>\n",
              "      <td>5.677396405391911%</td>\n",
              "      <td>0.40529206190713685%</td>\n",
              "      <td>13.052234148776776%</td>\n",
              "      <td>0.35141038442336353%</td>\n",
              "      <td>$67264.78230266465</td>\n",
              "      <td>19087135M_19334329F</td>\n",
              "    </tr>\n",
              "  </tbody>\n",
              "</table>\n",
              "</div>"
            ],
            "text/plain": [
              "   Unnamed: 0       State  ...              Income            GenderPop\n",
              "0           0     Alabama  ...  $43296.35860306644    2341093M_2489527F\n",
              "1           1      Alaska  ...  $70354.74390243902      384160M_349215F\n",
              "2           2     Arizona  ...  $54207.82095490716    3299088M_3342840F\n",
              "3           3    Arkansas  ...  $41935.63396778917    1451913M_1506295F\n",
              "4           4  California  ...  $67264.78230266465  19087135M_19334329F\n",
              "\n",
              "[5 rows x 11 columns]"
            ]
          },
          "metadata": {
            "tags": []
          },
          "execution_count": 138
        }
      ]
    },
    {
      "cell_type": "markdown",
      "metadata": {
        "id": "3oUytUuq5xYK"
      },
      "source": [
        "* first i'm going to convert the TotalPop column from int to float\r\n",
        "* next, i'm going to strip the '%' from the Hispanic to Asian columns , and then convert them to float\r\n",
        "* next, i'm going to fill the NaN values in Pacific column and convert that to float\r\n",
        "* Then, i will strip '$' sign from income, and convert that into float\r\n",
        "* Finally, i'm going to split the gender column into Men and Women and convert them to float as well."
      ]
    },
    {
      "cell_type": "code",
      "metadata": {
        "id": "gUC6zQWUEAo2"
      },
      "source": [
        "us_census['TotalPop'] = us_census['TotalPop'].astype(float)"
      ],
      "execution_count": 139,
      "outputs": []
    },
    {
      "cell_type": "code",
      "metadata": {
        "id": "zhoHZfRoEgCT"
      },
      "source": [
        "collist = us_census.columns.to_list()"
      ],
      "execution_count": 140,
      "outputs": []
    },
    {
      "cell_type": "code",
      "metadata": {
        "id": "1yIN5LyK7eim"
      },
      "source": [
        "for col in collist[3:-3]:\r\n",
        "  us_census[col] = us_census[col].str.rstrip('%').astype('float')/100"
      ],
      "execution_count": 141,
      "outputs": []
    },
    {
      "cell_type": "markdown",
      "metadata": {
        "id": "GyKttiXT4-Uh"
      },
      "source": [
        "# 5. "
      ]
    },
    {
      "cell_type": "markdown",
      "metadata": {
        "id": "NQI1o9rj3wKi"
      },
      "source": [
        "here i'm removing the '$' sign from the Income column and converting the income column into float"
      ]
    },
    {
      "cell_type": "code",
      "metadata": {
        "id": "Z2-zdgFifAkj"
      },
      "source": [
        "us_census['Income'] = us_census['Income'].replace({'\\$':''}, regex = True).astype(float)"
      ],
      "execution_count": 142,
      "outputs": []
    },
    {
      "cell_type": "code",
      "metadata": {
        "id": "rBRvnftzDQOL"
      },
      "source": [
        ""
      ],
      "execution_count": 142,
      "outputs": []
    },
    {
      "cell_type": "code",
      "metadata": {
        "id": "6TFJFodComet"
      },
      "source": [
        "del us_census['Unnamed: 0']"
      ],
      "execution_count": 143,
      "outputs": []
    },
    {
      "cell_type": "code",
      "metadata": {
        "id": "Lgapr-AfpDql"
      },
      "source": [
        ""
      ],
      "execution_count": 143,
      "outputs": []
    },
    {
      "cell_type": "markdown",
      "metadata": {
        "id": "kYi3XHXOFtKw"
      },
      "source": [
        "# 6. "
      ]
    },
    {
      "cell_type": "code",
      "metadata": {
        "id": "nllZC1L3bL1D"
      },
      "source": [
        "us_census[['Men','Women']] = us_census.GenderPop.str.split(\"_\",expand=True,)\r\n",
        "del us_census['GenderPop']"
      ],
      "execution_count": 144,
      "outputs": []
    },
    {
      "cell_type": "code",
      "metadata": {
        "id": "QH53nAFrAhBi"
      },
      "source": [
        "us_census['Men'] = us_census['Men'].str.rstrip('M').astype('float')"
      ],
      "execution_count": 145,
      "outputs": []
    },
    {
      "cell_type": "markdown",
      "metadata": {
        "id": "S1wODdAxDHuo"
      },
      "source": [
        "here, i encountered a problem where the Number of Men were given but not Women. So i'm going to first remove the 'F', then fill the blank space with NaN values, then fill the NaN values by getting the difference between the TotalPop and Men to get the number of Women"
      ]
    },
    {
      "cell_type": "markdown",
      "metadata": {
        "id": "DU2MDIBbMbB4"
      },
      "source": [
        "removing the 'F'"
      ]
    },
    {
      "cell_type": "code",
      "metadata": {
        "id": "dToaPgvMEKME"
      },
      "source": [
        "us_census['Women'] = us_census['Women'].str.rstrip('F')"
      ],
      "execution_count": 146,
      "outputs": []
    },
    {
      "cell_type": "markdown",
      "metadata": {
        "id": "kFitf6TuMyXu"
      },
      "source": [
        "replacing the blank space with the difference of the TotalPop and Men"
      ]
    },
    {
      "cell_type": "code",
      "metadata": {
        "id": "UmPXiJfhLbLi"
      },
      "source": [
        "us_census['Women'] = us_census['TotalPop'] - us_census['Men']"
      ],
      "execution_count": 147,
      "outputs": []
    },
    {
      "cell_type": "markdown",
      "metadata": {
        "id": "fyAJjDggNkW3"
      },
      "source": [
        "# 7. "
      ]
    },
    {
      "cell_type": "markdown",
      "metadata": {
        "id": "c8xwBt-XNcQ0"
      },
      "source": [
        "converted both columns to float"
      ]
    },
    {
      "cell_type": "markdown",
      "metadata": {
        "id": "0u5fVWXpNxA7"
      },
      "source": [
        "# 8. "
      ]
    },
    {
      "cell_type": "code",
      "metadata": {
        "id": "rYwG3G7NNz-q"
      },
      "source": [
        "us_census['Pacific'] = us_census['Pacific'].fillna(method='ffill')"
      ],
      "execution_count": 148,
      "outputs": []
    },
    {
      "cell_type": "code",
      "metadata": {
        "id": "J1L_4jVwOVWd"
      },
      "source": [
        "us_census['Pacific'] =us_census['Pacific'].str.rstrip('%').astype('float')/100"
      ],
      "execution_count": 149,
      "outputs": []
    },
    {
      "cell_type": "markdown",
      "metadata": {
        "id": "F6GFtgawO8Fa"
      },
      "source": [
        "# 9.\n",
        "\n"
      ]
    },
    {
      "cell_type": "code",
      "metadata": {
        "colab": {
          "base_uri": "https://localhost:8080/",
          "height": 278
        },
        "id": "vksTXb_RPAfH",
        "outputId": "b1bf0ec1-765b-46af-fccc-c3e8ea1e57d9"
      },
      "source": [
        "plt.scatter(us_census['Women'], us_census['Income'])\r\n",
        "plt.show() "
      ],
      "execution_count": 150,
      "outputs": [
        {
          "output_type": "display_data",
          "data": {
            "image/png": "[encoded data removed]",
            "text/plain": [
              "<Figure size 432x288 with 1 Axes>"
            ]
          },
          "metadata": {
            "tags": [],
            "needs_background": "light"
          }
        }
      ]
    },
    {
      "cell_type": "markdown",
      "metadata": {
        "id": "bEuLHHhnQLJz"
      },
      "source": [
        "# 10. "
      ]
    },
    {
      "cell_type": "code",
      "metadata": {
        "colab": {
          "base_uri": "https://localhost:8080/"
        },
        "id": "uLxQqZ_XQPdV",
        "outputId": "540194d7-d558-4d1a-d7b6-1bbe9507a6a2"
      },
      "source": [
        "us_census.duplicated()"
      ],
      "execution_count": 151,
      "outputs": [
        {
          "output_type": "execute_result",
          "data": {
            "text/plain": [
              "0     False\n",
              "1     False\n",
              "2     False\n",
              "3     False\n",
              "4     False\n",
              "5     False\n",
              "6      True\n",
              "7     False\n",
              "8     False\n",
              "9     False\n",
              "10    False\n",
              "11    False\n",
              "12     True\n",
              "13    False\n",
              "14    False\n",
              "15    False\n",
              "16    False\n",
              "17    False\n",
              "18     True\n",
              "19    False\n",
              "20    False\n",
              "21    False\n",
              "22    False\n",
              "23    False\n",
              "24     True\n",
              "25    False\n",
              "26    False\n",
              "27    False\n",
              "28    False\n",
              "29    False\n",
              "30     True\n",
              "31    False\n",
              "32    False\n",
              "33    False\n",
              "34    False\n",
              "35    False\n",
              "36     True\n",
              "37    False\n",
              "38    False\n",
              "39    False\n",
              "40    False\n",
              "41    False\n",
              "42     True\n",
              "43    False\n",
              "44    False\n",
              "45    False\n",
              "46    False\n",
              "47    False\n",
              "48     True\n",
              "49    False\n",
              "50    False\n",
              "51    False\n",
              "52    False\n",
              "53    False\n",
              "54     True\n",
              "55    False\n",
              "56    False\n",
              "57    False\n",
              "58    False\n",
              "59    False\n",
              "dtype: bool"
            ]
          },
          "metadata": {
            "tags": []
          },
          "execution_count": 151
        }
      ]
    },
    {
      "cell_type": "markdown",
      "metadata": {
        "id": "zYO9wuBtQiy4"
      },
      "source": [
        "# 11. "
      ]
    },
    {
      "cell_type": "code",
      "metadata": {
        "id": "4qu2G4pSpR0p",
        "colab": {
          "base_uri": "https://localhost:8080/",
          "height": 1000
        },
        "outputId": "6a2f468c-03f0-4c02-85ca-af26c4e88677"
      },
      "source": [
        "us_census.drop_duplicates()"
      ],
      "execution_count": 152,
      "outputs": [
        {
          "output_type": "execute_result",
          "data": {
            "text/html": [
              "<div>\n",
              "<style scoped>\n",
              "    .dataframe tbody tr th:only-of-type {\n",
              "        vertical-align: middle;\n",
              "    }\n",
              "\n",
              "    .dataframe tbody tr th {\n",
              "        vertical-align: top;\n",
              "    }\n",
              "\n",
              "    .dataframe thead th {\n",
              "        text-align: right;\n",
              "    }\n",
              "</style>\n",
              "<table border=\"1\" class=\"dataframe\">\n",
              "  <thead>\n",
              "    <tr style=\"text-align: right;\">\n",
              "      <th></th>\n",
              "      <th>State</th>\n",
              "      <th>TotalPop</th>\n",
              "      <th>Hispanic</th>\n",
              "      <th>White</th>\n",
              "      <th>Black</th>\n",
              "      <th>Native</th>\n",
              "      <th>Asian</th>\n",
              "      <th>Pacific</th>\n",
              "      <th>Income</th>\n",
              "      <th>Men</th>\n",
              "      <th>Women</th>\n",
              "    </tr>\n",
              "  </thead>\n",
              "  <tbody>\n",
              "    <tr>\n",
              "      <th>0</th>\n",
              "      <td>Alabama</td>\n",
              "      <td>4830620.0</td>\n",
              "      <td>0.037516</td>\n",
              "      <td>0.618787</td>\n",
              "      <td>0.312530</td>\n",
              "      <td>0.004532</td>\n",
              "      <td>0.010503</td>\n",
              "      <td>0.000344</td>\n",
              "      <td>43296.358603</td>\n",
              "      <td>2341093.0</td>\n",
              "      <td>2489527.0</td>\n",
              "    </tr>\n",
              "    <tr>\n",
              "      <th>1</th>\n",
              "      <td>Alaska</td>\n",
              "      <td>733375.0</td>\n",
              "      <td>0.059096</td>\n",
              "      <td>0.609102</td>\n",
              "      <td>0.028485</td>\n",
              "      <td>0.163910</td>\n",
              "      <td>0.054503</td>\n",
              "      <td>0.010587</td>\n",
              "      <td>70354.743902</td>\n",
              "      <td>384160.0</td>\n",
              "      <td>349215.0</td>\n",
              "    </tr>\n",
              "    <tr>\n",
              "      <th>2</th>\n",
              "      <td>Arizona</td>\n",
              "      <td>6641928.0</td>\n",
              "      <td>0.295659</td>\n",
              "      <td>0.571200</td>\n",
              "      <td>0.038510</td>\n",
              "      <td>0.043551</td>\n",
              "      <td>0.028766</td>\n",
              "      <td>0.001676</td>\n",
              "      <td>54207.820955</td>\n",
              "      <td>3299088.0</td>\n",
              "      <td>3342840.0</td>\n",
              "    </tr>\n",
              "    <tr>\n",
              "      <th>3</th>\n",
              "      <td>Arkansas</td>\n",
              "      <td>2958208.0</td>\n",
              "      <td>0.062155</td>\n",
              "      <td>0.711378</td>\n",
              "      <td>0.189688</td>\n",
              "      <td>0.005229</td>\n",
              "      <td>0.011423</td>\n",
              "      <td>0.001469</td>\n",
              "      <td>41935.633968</td>\n",
              "      <td>1451913.0</td>\n",
              "      <td>1506295.0</td>\n",
              "    </tr>\n",
              "    <tr>\n",
              "      <th>4</th>\n",
              "      <td>California</td>\n",
              "      <td>38421464.0</td>\n",
              "      <td>0.372919</td>\n",
              "      <td>0.402158</td>\n",
              "      <td>0.056774</td>\n",
              "      <td>0.004053</td>\n",
              "      <td>0.130522</td>\n",
              "      <td>0.003514</td>\n",
              "      <td>67264.782303</td>\n",
              "      <td>19087135.0</td>\n",
              "      <td>19334329.0</td>\n",
              "    </tr>\n",
              "    <tr>\n",
              "      <th>5</th>\n",
              "      <td>Colorado</td>\n",
              "      <td>5278906.0</td>\n",
              "      <td>0.207844</td>\n",
              "      <td>0.698956</td>\n",
              "      <td>0.035464</td>\n",
              "      <td>0.005738</td>\n",
              "      <td>0.026620</td>\n",
              "      <td>0.003514</td>\n",
              "      <td>64657.801787</td>\n",
              "      <td>2648667.0</td>\n",
              "      <td>2630239.0</td>\n",
              "    </tr>\n",
              "    <tr>\n",
              "      <th>7</th>\n",
              "      <td>Connecticut</td>\n",
              "      <td>3593222.0</td>\n",
              "      <td>0.156048</td>\n",
              "      <td>0.676771</td>\n",
              "      <td>0.103481</td>\n",
              "      <td>0.001262</td>\n",
              "      <td>0.040220</td>\n",
              "      <td>0.000186</td>\n",
              "      <td>76146.560588</td>\n",
              "      <td>1751607.0</td>\n",
              "      <td>1841615.0</td>\n",
              "    </tr>\n",
              "    <tr>\n",
              "      <th>8</th>\n",
              "      <td>Delaware</td>\n",
              "      <td>926454.0</td>\n",
              "      <td>0.088248</td>\n",
              "      <td>0.646327</td>\n",
              "      <td>0.207439</td>\n",
              "      <td>0.002598</td>\n",
              "      <td>0.032687</td>\n",
              "      <td>0.000186</td>\n",
              "      <td>61827.976636</td>\n",
              "      <td>448413.0</td>\n",
              "      <td>478041.0</td>\n",
              "    </tr>\n",
              "    <tr>\n",
              "      <th>9</th>\n",
              "      <td>District of Columbia</td>\n",
              "      <td>647484.0</td>\n",
              "      <td>0.091659</td>\n",
              "      <td>0.331039</td>\n",
              "      <td>0.517765</td>\n",
              "      <td>0.002006</td>\n",
              "      <td>0.033832</td>\n",
              "      <td>0.000296</td>\n",
              "      <td>75466.363636</td>\n",
              "      <td>306674.0</td>\n",
              "      <td>340810.0</td>\n",
              "    </tr>\n",
              "    <tr>\n",
              "      <th>10</th>\n",
              "      <td>Florida</td>\n",
              "      <td>19645772.0</td>\n",
              "      <td>0.213385</td>\n",
              "      <td>0.590837</td>\n",
              "      <td>0.151657</td>\n",
              "      <td>0.002105</td>\n",
              "      <td>0.022832</td>\n",
              "      <td>0.000515</td>\n",
              "      <td>50690.194987</td>\n",
              "      <td>9600009.0</td>\n",
              "      <td>10045763.0</td>\n",
              "    </tr>\n",
              "    <tr>\n",
              "      <th>11</th>\n",
              "      <td>Georgia</td>\n",
              "      <td>10006693.0</td>\n",
              "      <td>0.084182</td>\n",
              "      <td>0.542863</td>\n",
              "      <td>0.320883</td>\n",
              "      <td>0.001876</td>\n",
              "      <td>0.030976</td>\n",
              "      <td>0.000466</td>\n",
              "      <td>50811.082051</td>\n",
              "      <td>4883331.0</td>\n",
              "      <td>5123362.0</td>\n",
              "    </tr>\n",
              "    <tr>\n",
              "      <th>13</th>\n",
              "      <td>Hawaii</td>\n",
              "      <td>1406299.0</td>\n",
              "      <td>0.091867</td>\n",
              "      <td>0.250323</td>\n",
              "      <td>0.020528</td>\n",
              "      <td>0.001449</td>\n",
              "      <td>0.365921</td>\n",
              "      <td>0.087589</td>\n",
              "      <td>73264.426282</td>\n",
              "      <td>709871.0</td>\n",
              "      <td>696428.0</td>\n",
              "    </tr>\n",
              "    <tr>\n",
              "      <th>14</th>\n",
              "      <td>Idaho</td>\n",
              "      <td>1616547.0</td>\n",
              "      <td>0.115054</td>\n",
              "      <td>0.831362</td>\n",
              "      <td>0.005668</td>\n",
              "      <td>0.014681</td>\n",
              "      <td>0.011359</td>\n",
              "      <td>0.001272</td>\n",
              "      <td>48017.315436</td>\n",
              "      <td>810464.0</td>\n",
              "      <td>806083.0</td>\n",
              "    </tr>\n",
              "    <tr>\n",
              "      <th>15</th>\n",
              "      <td>Illinois</td>\n",
              "      <td>12873761.0</td>\n",
              "      <td>0.156017</td>\n",
              "      <td>0.608598</td>\n",
              "      <td>0.171084</td>\n",
              "      <td>0.001184</td>\n",
              "      <td>0.044754</td>\n",
              "      <td>0.000200</td>\n",
              "      <td>59587.048875</td>\n",
              "      <td>6316899.0</td>\n",
              "      <td>6556862.0</td>\n",
              "    </tr>\n",
              "    <tr>\n",
              "      <th>16</th>\n",
              "      <td>Indiana</td>\n",
              "      <td>6568645.0</td>\n",
              "      <td>0.065367</td>\n",
              "      <td>0.784319</td>\n",
              "      <td>0.111870</td>\n",
              "      <td>0.001941</td>\n",
              "      <td>0.015783</td>\n",
              "      <td>0.000326</td>\n",
              "      <td>48616.227848</td>\n",
              "      <td>3235263.0</td>\n",
              "      <td>3333382.0</td>\n",
              "    </tr>\n",
              "    <tr>\n",
              "      <th>17</th>\n",
              "      <td>Iowa</td>\n",
              "      <td>3093526.0</td>\n",
              "      <td>0.053036</td>\n",
              "      <td>0.877197</td>\n",
              "      <td>0.032570</td>\n",
              "      <td>0.002898</td>\n",
              "      <td>0.016994</td>\n",
              "      <td>0.000552</td>\n",
              "      <td>53017.753041</td>\n",
              "      <td>1534595.0</td>\n",
              "      <td>1558931.0</td>\n",
              "    </tr>\n",
              "    <tr>\n",
              "      <th>19</th>\n",
              "      <td>Kansas</td>\n",
              "      <td>2892987.0</td>\n",
              "      <td>0.116443</td>\n",
              "      <td>0.759583</td>\n",
              "      <td>0.065679</td>\n",
              "      <td>0.007339</td>\n",
              "      <td>0.023311</td>\n",
              "      <td>0.000552</td>\n",
              "      <td>53885.612648</td>\n",
              "      <td>1439862.0</td>\n",
              "      <td>1453125.0</td>\n",
              "    </tr>\n",
              "    <tr>\n",
              "      <th>20</th>\n",
              "      <td>Kentucky</td>\n",
              "      <td>4397353.0</td>\n",
              "      <td>0.032230</td>\n",
              "      <td>0.852307</td>\n",
              "      <td>0.082723</td>\n",
              "      <td>0.001666</td>\n",
              "      <td>0.011298</td>\n",
              "      <td>0.000464</td>\n",
              "      <td>45285.802536</td>\n",
              "      <td>2164208.0</td>\n",
              "      <td>2233145.0</td>\n",
              "    </tr>\n",
              "    <tr>\n",
              "      <th>21</th>\n",
              "      <td>Louisiana</td>\n",
              "      <td>4625253.0</td>\n",
              "      <td>0.048665</td>\n",
              "      <td>0.549785</td>\n",
              "      <td>0.363262</td>\n",
              "      <td>0.004843</td>\n",
              "      <td>0.016691</td>\n",
              "      <td>0.000392</td>\n",
              "      <td>44957.993761</td>\n",
              "      <td>2261156.0</td>\n",
              "      <td>2364097.0</td>\n",
              "    </tr>\n",
              "    <tr>\n",
              "      <th>22</th>\n",
              "      <td>Maine</td>\n",
              "      <td>1329100.0</td>\n",
              "      <td>0.014319</td>\n",
              "      <td>0.937074</td>\n",
              "      <td>0.011345</td>\n",
              "      <td>0.007883</td>\n",
              "      <td>0.009658</td>\n",
              "      <td>0.000157</td>\n",
              "      <td>49181.974359</td>\n",
              "      <td>650081.0</td>\n",
              "      <td>679019.0</td>\n",
              "    </tr>\n",
              "    <tr>\n",
              "      <th>23</th>\n",
              "      <td>Maryland</td>\n",
              "      <td>5930538.0</td>\n",
              "      <td>0.084725</td>\n",
              "      <td>0.526790</td>\n",
              "      <td>0.306778</td>\n",
              "      <td>0.002031</td>\n",
              "      <td>0.053254</td>\n",
              "      <td>0.000363</td>\n",
              "      <td>78765.400725</td>\n",
              "      <td>2872643.0</td>\n",
              "      <td>3057895.0</td>\n",
              "    </tr>\n",
              "    <tr>\n",
              "      <th>25</th>\n",
              "      <td>Massachusetts</td>\n",
              "      <td>6705586.0</td>\n",
              "      <td>0.114611</td>\n",
              "      <td>0.730411</td>\n",
              "      <td>0.068331</td>\n",
              "      <td>0.001283</td>\n",
              "      <td>0.058357</td>\n",
              "      <td>0.000198</td>\n",
              "      <td>72838.936726</td>\n",
              "      <td>3249650.0</td>\n",
              "      <td>3455936.0</td>\n",
              "    </tr>\n",
              "    <tr>\n",
              "      <th>26</th>\n",
              "      <td>Michigan</td>\n",
              "      <td>9900571.0</td>\n",
              "      <td>0.046350</td>\n",
              "      <td>0.723817</td>\n",
              "      <td>0.176331</td>\n",
              "      <td>0.004844</td>\n",
              "      <td>0.024231</td>\n",
              "      <td>0.000195</td>\n",
              "      <td>51201.830037</td>\n",
              "      <td>4861973.0</td>\n",
              "      <td>5038598.0</td>\n",
              "    </tr>\n",
              "    <tr>\n",
              "      <th>27</th>\n",
              "      <td>Minnesota</td>\n",
              "      <td>5419171.0</td>\n",
              "      <td>0.051529</td>\n",
              "      <td>0.814271</td>\n",
              "      <td>0.056598</td>\n",
              "      <td>0.010690</td>\n",
              "      <td>0.041561</td>\n",
              "      <td>0.000329</td>\n",
              "      <td>62820.833959</td>\n",
              "      <td>2692166.0</td>\n",
              "      <td>2727005.0</td>\n",
              "    </tr>\n",
              "    <tr>\n",
              "      <th>28</th>\n",
              "      <td>Mississippi</td>\n",
              "      <td>2988081.0</td>\n",
              "      <td>0.028424</td>\n",
              "      <td>0.532863</td>\n",
              "      <td>0.414919</td>\n",
              "      <td>0.003900</td>\n",
              "      <td>0.008764</td>\n",
              "      <td>0.000150</td>\n",
              "      <td>38909.919207</td>\n",
              "      <td>1451723.0</td>\n",
              "      <td>1536358.0</td>\n",
              "    </tr>\n",
              "    <tr>\n",
              "      <th>29</th>\n",
              "      <td>Missouri</td>\n",
              "      <td>6045448.0</td>\n",
              "      <td>0.040372</td>\n",
              "      <td>0.775081</td>\n",
              "      <td>0.141221</td>\n",
              "      <td>0.003633</td>\n",
              "      <td>0.016245</td>\n",
              "      <td>0.001017</td>\n",
              "      <td>49763.987726</td>\n",
              "      <td>2964003.0</td>\n",
              "      <td>3081445.0</td>\n",
              "    </tr>\n",
              "    <tr>\n",
              "      <th>31</th>\n",
              "      <td>Montana</td>\n",
              "      <td>1014699.0</td>\n",
              "      <td>0.032689</td>\n",
              "      <td>0.864156</td>\n",
              "      <td>0.004293</td>\n",
              "      <td>0.070607</td>\n",
              "      <td>0.005704</td>\n",
              "      <td>0.000722</td>\n",
              "      <td>47645.682836</td>\n",
              "      <td>510163.0</td>\n",
              "      <td>504536.0</td>\n",
              "    </tr>\n",
              "    <tr>\n",
              "      <th>32</th>\n",
              "      <td>Nebraska</td>\n",
              "      <td>1869365.0</td>\n",
              "      <td>0.092038</td>\n",
              "      <td>0.811395</td>\n",
              "      <td>0.049562</td>\n",
              "      <td>0.008645</td>\n",
              "      <td>0.018590</td>\n",
              "      <td>0.000571</td>\n",
              "      <td>55916.469697</td>\n",
              "      <td>929606.0</td>\n",
              "      <td>939759.0</td>\n",
              "    </tr>\n",
              "    <tr>\n",
              "      <th>33</th>\n",
              "      <td>Nevada</td>\n",
              "      <td>2798636.0</td>\n",
              "      <td>0.271009</td>\n",
              "      <td>0.532393</td>\n",
              "      <td>0.077396</td>\n",
              "      <td>0.010872</td>\n",
              "      <td>0.070957</td>\n",
              "      <td>0.005745</td>\n",
              "      <td>55526.525074</td>\n",
              "      <td>1407735.0</td>\n",
              "      <td>1390901.0</td>\n",
              "    </tr>\n",
              "    <tr>\n",
              "      <th>34</th>\n",
              "      <td>New Hampshire</td>\n",
              "      <td>1324201.0</td>\n",
              "      <td>0.033219</td>\n",
              "      <td>0.913192</td>\n",
              "      <td>0.012277</td>\n",
              "      <td>0.001428</td>\n",
              "      <td>0.021914</td>\n",
              "      <td>0.000161</td>\n",
              "      <td>68728.859589</td>\n",
              "      <td>653484.0</td>\n",
              "      <td>670717.0</td>\n",
              "    </tr>\n",
              "    <tr>\n",
              "      <th>35</th>\n",
              "      <td>New Jersey</td>\n",
              "      <td>8904413.0</td>\n",
              "      <td>0.187495</td>\n",
              "      <td>0.564888</td>\n",
              "      <td>0.143879</td>\n",
              "      <td>0.001153</td>\n",
              "      <td>0.081600</td>\n",
              "      <td>0.000313</td>\n",
              "      <td>76581.083417</td>\n",
              "      <td>4343027.0</td>\n",
              "      <td>4561386.0</td>\n",
              "    </tr>\n",
              "    <tr>\n",
              "      <th>37</th>\n",
              "      <td>New Mexico</td>\n",
              "      <td>2084117.0</td>\n",
              "      <td>0.452829</td>\n",
              "      <td>0.406980</td>\n",
              "      <td>0.017550</td>\n",
              "      <td>0.092486</td>\n",
              "      <td>0.012343</td>\n",
              "      <td>0.000428</td>\n",
              "      <td>47329.967871</td>\n",
              "      <td>1032414.0</td>\n",
              "      <td>1051703.0</td>\n",
              "    </tr>\n",
              "    <tr>\n",
              "      <th>38</th>\n",
              "      <td>New York</td>\n",
              "      <td>19673174.0</td>\n",
              "      <td>0.172414</td>\n",
              "      <td>0.564701</td>\n",
              "      <td>0.156680</td>\n",
              "      <td>0.003216</td>\n",
              "      <td>0.078972</td>\n",
              "      <td>0.000235</td>\n",
              "      <td>64290.749113</td>\n",
              "      <td>9541801.0</td>\n",
              "      <td>10131373.0</td>\n",
              "    </tr>\n",
              "    <tr>\n",
              "      <th>39</th>\n",
              "      <td>North Carolina</td>\n",
              "      <td>9845333.0</td>\n",
              "      <td>0.084648</td>\n",
              "      <td>0.645977</td>\n",
              "      <td>0.213951</td>\n",
              "      <td>0.010855</td>\n",
              "      <td>0.023175</td>\n",
              "      <td>0.000523</td>\n",
              "      <td>49937.464137</td>\n",
              "      <td>4795408.0</td>\n",
              "      <td>5049925.0</td>\n",
              "    </tr>\n",
              "    <tr>\n",
              "      <th>40</th>\n",
              "      <td>North Dakota</td>\n",
              "      <td>721640.0</td>\n",
              "      <td>0.028327</td>\n",
              "      <td>0.874483</td>\n",
              "      <td>0.012844</td>\n",
              "      <td>0.056512</td>\n",
              "      <td>0.009620</td>\n",
              "      <td>0.000523</td>\n",
              "      <td>58188.112195</td>\n",
              "      <td>367963.0</td>\n",
              "      <td>353677.0</td>\n",
              "    </tr>\n",
              "    <tr>\n",
              "      <th>41</th>\n",
              "      <td>Ohio</td>\n",
              "      <td>11575977.0</td>\n",
              "      <td>0.036721</td>\n",
              "      <td>0.759031</td>\n",
              "      <td>0.162073</td>\n",
              "      <td>0.001689</td>\n",
              "      <td>0.016211</td>\n",
              "      <td>0.000226</td>\n",
              "      <td>49655.248466</td>\n",
              "      <td>5662893.0</td>\n",
              "      <td>5913084.0</td>\n",
              "    </tr>\n",
              "    <tr>\n",
              "      <th>43</th>\n",
              "      <td>Oklahoma</td>\n",
              "      <td>3849733.0</td>\n",
              "      <td>0.100799</td>\n",
              "      <td>0.660594</td>\n",
              "      <td>0.083147</td>\n",
              "      <td>0.067168</td>\n",
              "      <td>0.018011</td>\n",
              "      <td>0.001062</td>\n",
              "      <td>48100.854267</td>\n",
              "      <td>1906944.0</td>\n",
              "      <td>1942789.0</td>\n",
              "    </tr>\n",
              "    <tr>\n",
              "      <th>44</th>\n",
              "      <td>Oregon</td>\n",
              "      <td>3939233.0</td>\n",
              "      <td>0.114412</td>\n",
              "      <td>0.783955</td>\n",
              "      <td>0.017308</td>\n",
              "      <td>0.010002</td>\n",
              "      <td>0.035949</td>\n",
              "      <td>0.003453</td>\n",
              "      <td>54271.901818</td>\n",
              "      <td>1948453.0</td>\n",
              "      <td>1990780.0</td>\n",
              "    </tr>\n",
              "    <tr>\n",
              "      <th>45</th>\n",
              "      <td>Pennsylvania</td>\n",
              "      <td>12779559.0</td>\n",
              "      <td>0.061280</td>\n",
              "      <td>0.773839</td>\n",
              "      <td>0.116339</td>\n",
              "      <td>0.001193</td>\n",
              "      <td>0.027978</td>\n",
              "      <td>0.000194</td>\n",
              "      <td>56170.464510</td>\n",
              "      <td>6245344.0</td>\n",
              "      <td>6534215.0</td>\n",
              "    </tr>\n",
              "    <tr>\n",
              "      <th>46</th>\n",
              "      <td>Puerto Rico</td>\n",
              "      <td>3583073.0</td>\n",
              "      <td>0.988936</td>\n",
              "      <td>0.007736</td>\n",
              "      <td>0.000926</td>\n",
              "      <td>0.000028</td>\n",
              "      <td>0.000752</td>\n",
              "      <td>0.000012</td>\n",
              "      <td>20720.538286</td>\n",
              "      <td>1713860.0</td>\n",
              "      <td>1869213.0</td>\n",
              "    </tr>\n",
              "    <tr>\n",
              "      <th>47</th>\n",
              "      <td>Rhode Island</td>\n",
              "      <td>1053661.0</td>\n",
              "      <td>0.133567</td>\n",
              "      <td>0.743254</td>\n",
              "      <td>0.056829</td>\n",
              "      <td>0.003463</td>\n",
              "      <td>0.032475</td>\n",
              "      <td>0.000358</td>\n",
              "      <td>59125.270833</td>\n",
              "      <td>510388.0</td>\n",
              "      <td>543273.0</td>\n",
              "    </tr>\n",
              "    <tr>\n",
              "      <th>49</th>\n",
              "      <td>South Carolina</td>\n",
              "      <td>4777576.0</td>\n",
              "      <td>0.050567</td>\n",
              "      <td>0.628887</td>\n",
              "      <td>0.287509</td>\n",
              "      <td>0.002924</td>\n",
              "      <td>0.012492</td>\n",
              "      <td>0.000470</td>\n",
              "      <td>46296.807763</td>\n",
              "      <td>2322409.0</td>\n",
              "      <td>2455167.0</td>\n",
              "    </tr>\n",
              "    <tr>\n",
              "      <th>50</th>\n",
              "      <td>South Dakota</td>\n",
              "      <td>843190.0</td>\n",
              "      <td>0.032396</td>\n",
              "      <td>0.825009</td>\n",
              "      <td>0.014239</td>\n",
              "      <td>0.094176</td>\n",
              "      <td>0.010194</td>\n",
              "      <td>0.000419</td>\n",
              "      <td>51805.405405</td>\n",
              "      <td>423477.0</td>\n",
              "      <td>419713.0</td>\n",
              "    </tr>\n",
              "    <tr>\n",
              "      <th>51</th>\n",
              "      <td>Tennessee</td>\n",
              "      <td>6499615.0</td>\n",
              "      <td>0.047200</td>\n",
              "      <td>0.734901</td>\n",
              "      <td>0.182838</td>\n",
              "      <td>0.002266</td>\n",
              "      <td>0.014073</td>\n",
              "      <td>0.000432</td>\n",
              "      <td>47328.083617</td>\n",
              "      <td>3167756.0</td>\n",
              "      <td>3331859.0</td>\n",
              "    </tr>\n",
              "    <tr>\n",
              "      <th>52</th>\n",
              "      <td>Texas</td>\n",
              "      <td>26538614.0</td>\n",
              "      <td>0.380467</td>\n",
              "      <td>0.446879</td>\n",
              "      <td>0.116500</td>\n",
              "      <td>0.002611</td>\n",
              "      <td>0.036697</td>\n",
              "      <td>0.000688</td>\n",
              "      <td>55874.522601</td>\n",
              "      <td>13171316.0</td>\n",
              "      <td>13367298.0</td>\n",
              "    </tr>\n",
              "    <tr>\n",
              "      <th>53</th>\n",
              "      <td>Utah</td>\n",
              "      <td>2903379.0</td>\n",
              "      <td>0.134684</td>\n",
              "      <td>0.794068</td>\n",
              "      <td>0.010179</td>\n",
              "      <td>0.010814</td>\n",
              "      <td>0.021961</td>\n",
              "      <td>0.008260</td>\n",
              "      <td>63488.917808</td>\n",
              "      <td>1459229.0</td>\n",
              "      <td>1444150.0</td>\n",
              "    </tr>\n",
              "    <tr>\n",
              "      <th>55</th>\n",
              "      <td>Vermont</td>\n",
              "      <td>626604.0</td>\n",
              "      <td>0.016093</td>\n",
              "      <td>0.939831</td>\n",
              "      <td>0.009809</td>\n",
              "      <td>0.003016</td>\n",
              "      <td>0.012388</td>\n",
              "      <td>0.000306</td>\n",
              "      <td>55602.967213</td>\n",
              "      <td>308573.0</td>\n",
              "      <td>318031.0</td>\n",
              "    </tr>\n",
              "    <tr>\n",
              "      <th>56</th>\n",
              "      <td>Virginia</td>\n",
              "      <td>8256630.0</td>\n",
              "      <td>0.080110</td>\n",
              "      <td>0.632710</td>\n",
              "      <td>0.201760</td>\n",
              "      <td>0.002125</td>\n",
              "      <td>0.054552</td>\n",
              "      <td>0.000647</td>\n",
              "      <td>72866.013412</td>\n",
              "      <td>4060948.0</td>\n",
              "      <td>4195682.0</td>\n",
              "    </tr>\n",
              "    <tr>\n",
              "      <th>57</th>\n",
              "      <td>Washington</td>\n",
              "      <td>6985464.0</td>\n",
              "      <td>0.111410</td>\n",
              "      <td>0.720384</td>\n",
              "      <td>0.033844</td>\n",
              "      <td>0.014107</td>\n",
              "      <td>0.070220</td>\n",
              "      <td>0.006099</td>\n",
              "      <td>64493.767684</td>\n",
              "      <td>3487725.0</td>\n",
              "      <td>3497739.0</td>\n",
              "    </tr>\n",
              "    <tr>\n",
              "      <th>58</th>\n",
              "      <td>West Virginia</td>\n",
              "      <td>1851420.0</td>\n",
              "      <td>0.012909</td>\n",
              "      <td>0.921762</td>\n",
              "      <td>0.036628</td>\n",
              "      <td>0.001527</td>\n",
              "      <td>0.006824</td>\n",
              "      <td>0.000264</td>\n",
              "      <td>41437.111570</td>\n",
              "      <td>913631.0</td>\n",
              "      <td>937789.0</td>\n",
              "    </tr>\n",
              "    <tr>\n",
              "      <th>59</th>\n",
              "      <td>Wisconsin</td>\n",
              "      <td>5742117.0</td>\n",
              "      <td>0.066833</td>\n",
              "      <td>0.798640</td>\n",
              "      <td>0.081952</td>\n",
              "      <td>0.009537</td>\n",
              "      <td>0.024042</td>\n",
              "      <td>0.000208</td>\n",
              "      <td>53898.889209</td>\n",
              "      <td>2851385.0</td>\n",
              "      <td>2890732.0</td>\n",
              "    </tr>\n",
              "  </tbody>\n",
              "</table>\n",
              "</div>"
            ],
            "text/plain": [
              "                   State    TotalPop  ...         Men       Women\n",
              "0                Alabama   4830620.0  ...   2341093.0   2489527.0\n",
              "1                 Alaska    733375.0  ...    384160.0    349215.0\n",
              "2                Arizona   6641928.0  ...   3299088.0   3342840.0\n",
              "3               Arkansas   2958208.0  ...   1451913.0   1506295.0\n",
              "4             California  38421464.0  ...  19087135.0  19334329.0\n",
              "5               Colorado   5278906.0  ...   2648667.0   2630239.0\n",
              "7            Connecticut   3593222.0  ...   1751607.0   1841615.0\n",
              "8               Delaware    926454.0  ...    448413.0    478041.0\n",
              "9   District of Columbia    647484.0  ...    306674.0    340810.0\n",
              "10               Florida  19645772.0  ...   9600009.0  10045763.0\n",
              "11               Georgia  10006693.0  ...   4883331.0   5123362.0\n",
              "13                Hawaii   1406299.0  ...    709871.0    696428.0\n",
              "14                 Idaho   1616547.0  ...    810464.0    806083.0\n",
              "15              Illinois  12873761.0  ...   6316899.0   6556862.0\n",
              "16               Indiana   6568645.0  ...   3235263.0   3333382.0\n",
              "17                  Iowa   3093526.0  ...   1534595.0   1558931.0\n",
              "19                Kansas   2892987.0  ...   1439862.0   1453125.0\n",
              "20              Kentucky   4397353.0  ...   2164208.0   2233145.0\n",
              "21             Louisiana   4625253.0  ...   2261156.0   2364097.0\n",
              "22                 Maine   1329100.0  ...    650081.0    679019.0\n",
              "23              Maryland   5930538.0  ...   2872643.0   3057895.0\n",
              "25         Massachusetts   6705586.0  ...   3249650.0   3455936.0\n",
              "26              Michigan   9900571.0  ...   4861973.0   5038598.0\n",
              "27             Minnesota   5419171.0  ...   2692166.0   2727005.0\n",
              "28           Mississippi   2988081.0  ...   1451723.0   1536358.0\n",
              "29              Missouri   6045448.0  ...   2964003.0   3081445.0\n",
              "31               Montana   1014699.0  ...    510163.0    504536.0\n",
              "32              Nebraska   1869365.0  ...    929606.0    939759.0\n",
              "33                Nevada   2798636.0  ...   1407735.0   1390901.0\n",
              "34         New Hampshire   1324201.0  ...    653484.0    670717.0\n",
              "35            New Jersey   8904413.0  ...   4343027.0   4561386.0\n",
              "37            New Mexico   2084117.0  ...   1032414.0   1051703.0\n",
              "38              New York  19673174.0  ...   9541801.0  10131373.0\n",
              "39        North Carolina   9845333.0  ...   4795408.0   5049925.0\n",
              "40          North Dakota    721640.0  ...    367963.0    353677.0\n",
              "41                  Ohio  11575977.0  ...   5662893.0   5913084.0\n",
              "43              Oklahoma   3849733.0  ...   1906944.0   1942789.0\n",
              "44                Oregon   3939233.0  ...   1948453.0   1990780.0\n",
              "45          Pennsylvania  12779559.0  ...   6245344.0   6534215.0\n",
              "46           Puerto Rico   3583073.0  ...   1713860.0   1869213.0\n",
              "47          Rhode Island   1053661.0  ...    510388.0    543273.0\n",
              "49        South Carolina   4777576.0  ...   2322409.0   2455167.0\n",
              "50          South Dakota    843190.0  ...    423477.0    419713.0\n",
              "51             Tennessee   6499615.0  ...   3167756.0   3331859.0\n",
              "52                 Texas  26538614.0  ...  13171316.0  13367298.0\n",
              "53                  Utah   2903379.0  ...   1459229.0   1444150.0\n",
              "55               Vermont    626604.0  ...    308573.0    318031.0\n",
              "56              Virginia   8256630.0  ...   4060948.0   4195682.0\n",
              "57            Washington   6985464.0  ...   3487725.0   3497739.0\n",
              "58         West Virginia   1851420.0  ...    913631.0    937789.0\n",
              "59             Wisconsin   5742117.0  ...   2851385.0   2890732.0\n",
              "\n",
              "[51 rows x 11 columns]"
            ]
          },
          "metadata": {
            "tags": []
          },
          "execution_count": 152
        }
      ]
    },
    {
      "cell_type": "markdown",
      "metadata": {
        "id": "0qCRq3jYQxFC"
      },
      "source": [
        "# 12."
      ]
    },
    {
      "cell_type": "code",
      "metadata": {
        "colab": {
          "base_uri": "https://localhost:8080/",
          "height": 278
        },
        "id": "9NN78s5pQ0xC",
        "outputId": "638ec8b3-140b-444d-ee43-858d4a7ce2b7"
      },
      "source": [
        "plt.scatter(us_census['Women'], us_census['Income'])\r\n",
        "plt.show() \r\n"
      ],
      "execution_count": 153,
      "outputs": [
        {
          "output_type": "display_data",
          "data": {
            "image/png": "[encoded data removed]",
            "text/plain": [
              "<Figure size 432x288 with 1 Axes>"
            ]
          },
          "metadata": {
            "tags": [],
            "needs_background": "light"
          }
        }
      ]
    },
    {
      "cell_type": "markdown",
      "metadata": {
        "id": "xIwn_KIjQ_pL"
      },
      "source": [
        "# 13."
      ]
    },
    {
      "cell_type": "code",
      "metadata": {
        "colab": {
          "base_uri": "https://localhost:8080/"
        },
        "id": "D6V2GiDORDDj",
        "outputId": "17fb584c-829e-42f6-8d9c-ce7f80542332"
      },
      "source": [
        "print(us_census.columns)"
      ],
      "execution_count": 154,
      "outputs": [
        {
          "output_type": "stream",
          "text": [
            "Index(['State', 'TotalPop', 'Hispanic', 'White', 'Black', 'Native', 'Asian',\n",
            "       'Pacific', 'Income', 'Men', 'Women'],\n",
            "      dtype='object')\n"
          ],
          "name": "stdout"
        }
      ]
    },
    {
      "cell_type": "markdown",
      "metadata": {
        "id": "K8sqcAIARKa3"
      },
      "source": [
        "There are Hispanic, White, Black, Native, Asian and Pacific races in the dataset"
      ]
    },
    {
      "cell_type": "markdown",
      "metadata": {
        "id": "lHqxeKJwRT9f"
      },
      "source": [
        "# 14. "
      ]
    },
    {
      "cell_type": "code",
      "metadata": {
        "colab": {
          "base_uri": "https://localhost:8080/",
          "height": 281
        },
        "id": "eoUZ9gweSANB",
        "outputId": "8825880e-08e8-4990-acf9-1f268a02d641"
      },
      "source": [
        "hist1 = us_census.hist(column=['Hispanic','Black','White'])"
      ],
      "execution_count": 155,
      "outputs": [
        {
          "output_type": "display_data",
          "data": {
            "image/png": "[encoded data removed]",
            "text/plain": [
              "<Figure size 432x288 with 4 Axes>"
            ]
          },
          "metadata": {
            "tags": [],
            "needs_background": "light"
          }
        }
      ]
    },
    {
      "cell_type": "code",
      "metadata": {
        "colab": {
          "base_uri": "https://localhost:8080/",
          "height": 281
        },
        "id": "0xe7a6-LT1HQ",
        "outputId": "b3a48a46-ec60-422b-d7fb-d3165b0173d2"
      },
      "source": [
        "hist2 = us_census.hist(column=['Asian','Native','Pacific'])"
      ],
      "execution_count": 156,
      "outputs": [
        {
          "output_type": "display_data",
          "data": {
            "image/png": "[encoded data removed]",
            "text/plain": [
              "<Figure size 432x288 with 4 Axes>"
            ]
          },
          "metadata": {
            "tags": [],
            "needs_background": "light"
          }
        }
      ]
    },
    {
      "cell_type": "markdown",
      "metadata": {
        "id": "TZ83JC0Oensn"
      },
      "source": [
        "# 15. "
      ]
    },
    {
      "cell_type": "markdown",
      "metadata": {
        "id": "JKAy8aZMguJ-"
      },
      "source": [
        "The real power of Pandas and Python over Excel are fast and efficient operations even when you have a larger dataset. While Excel may begin to slow down after a thousand or so rows, Pandas has no such limit"
      ]
    },
    {
      "cell_type": "markdown",
      "metadata": {
        "id": "gGbm6RgYVe7G"
      },
      "source": [
        "Here are a few charts that show the distribution of a particular ethnicity over the different states.. and the break down of ethnicities in a particular state\r\n"
      ]
    },
    {
      "cell_type": "markdown",
      "metadata": {
        "id": "z3crHWDEEveU"
      },
      "source": [
        "## Bar charts of a particular ethnicities distribution in different states"
      ]
    },
    {
      "cell_type": "markdown",
      "metadata": {
        "id": "NT0dEpjKlDmI"
      },
      "source": [
        "* Distribution of Hispanics over the different states"
      ]
    },
    {
      "cell_type": "code",
      "metadata": {
        "colab": {
          "base_uri": "https://localhost:8080/",
          "height": 440
        },
        "id": "BXpr1dlTdkBi",
        "outputId": "b8a831f2-5e30-4bb9-a9bf-25f453697008"
      },
      "source": [
        "us_census.plot.bar(x='State', y='Hispanic', figsize=(15,5))"
      ],
      "execution_count": 157,
      "outputs": [
        {
          "output_type": "execute_result",
          "data": {
            "text/plain": [
              "<matplotlib.axes._subplots.AxesSubplot at 0x7fd3fbbbb990>"
            ]
          },
          "metadata": {
            "tags": []
          },
          "execution_count": 157
        },
        {
          "output_type": "display_data",
          "data": {
            "image/png": "[encoded data removed]",
            "text/plain": [
              "<Figure size 1080x360 with 1 Axes>"
            ]
          },
          "metadata": {
            "tags": [],
            "needs_background": "light"
          }
        }
      ]
    },
    {
      "cell_type": "markdown",
      "metadata": {
        "id": "ueddtd-SsFhA"
      },
      "source": [
        "* Distribution of Blacks over different states\n"
      ]
    },
    {
      "cell_type": "code",
      "metadata": {
        "id": "tRJZvyRQdy2q",
        "colab": {
          "base_uri": "https://localhost:8080/",
          "height": 440
        },
        "outputId": "fab1d50e-d278-4767-fcf8-c68ca553a2dc"
      },
      "source": [
        "us_census.plot.bar(x='State', y='Black', figsize=(15,5))"
      ],
      "execution_count": 158,
      "outputs": [
        {
          "output_type": "execute_result",
          "data": {
            "text/plain": [
              "<matplotlib.axes._subplots.AxesSubplot at 0x7fd3fc26fdd0>"
            ]
          },
          "metadata": {
            "tags": []
          },
          "execution_count": 158
        },
        {
          "output_type": "display_data",
          "data": {
            "image/png": "[encoded data removed]",
            "text/plain": [
              "<Figure size 1080x360 with 1 Axes>"
            ]
          },
          "metadata": {
            "tags": [],
            "needs_background": "light"
          }
        }
      ]
    },
    {
      "cell_type": "markdown",
      "metadata": {
        "id": "zI1dANx4sLl9"
      },
      "source": [
        "* Distribution of Asian over different states"
      ]
    },
    {
      "cell_type": "code",
      "metadata": {
        "colab": {
          "base_uri": "https://localhost:8080/",
          "height": 440
        },
        "id": "64c6o2UdrJYc",
        "outputId": "b01f409c-77b7-4356-fb20-aed1454c8e04"
      },
      "source": [
        "us_census.plot.bar(x='State', y='Asian', figsize=(15,5))"
      ],
      "execution_count": 159,
      "outputs": [
        {
          "output_type": "execute_result",
          "data": {
            "text/plain": [
              "<matplotlib.axes._subplots.AxesSubplot at 0x7fd3fc4372d0>"
            ]
          },
          "metadata": {
            "tags": []
          },
          "execution_count": 159
        },
        {
          "output_type": "display_data",
          "data": {
            "image/png": "[encoded data removed]",
            "text/plain": [
              "<Figure size 1080x360 with 1 Axes>"
            ]
          },
          "metadata": {
            "tags": [],
            "needs_background": "light"
          }
        }
      ]
    },
    {
      "cell_type": "markdown",
      "metadata": {
        "id": "bbd5R_gw4VgP"
      },
      "source": [
        "NOw, since we don't have the data for the remaining percentage of other smaller ethnicities, We have to calculate it and add another column for all other types of ethnicities numbers, so that we can plot the pie chart"
      ]
    },
    {
      "cell_type": "code",
      "metadata": {
        "id": "ZdCJPbZc6YJs"
      },
      "source": [
        "us_census['Other'] = us_census.apply(lambda row: 1-(row.Hispanic + row.White + row.Black+ row.Asian + row.Native + row.Pacific), axis=1)"
      ],
      "execution_count": 160,
      "outputs": []
    },
    {
      "cell_type": "code",
      "metadata": {
        "id": "0pnvwGym9zH7"
      },
      "source": [
        "us_census= us_census[['State','TotalPop','Hispanic','White','Black','Native','Asian','Pacific','Other','Income','Men',\"Women\"]]"
      ],
      "execution_count": 161,
      "outputs": []
    },
    {
      "cell_type": "code",
      "metadata": {
        "colab": {
          "base_uri": "https://localhost:8080/",
          "height": 1000
        },
        "id": "1dBeniv17vp0",
        "outputId": "eb1a5a1d-5c43-4e1a-c881-879bc937146a"
      },
      "source": [
        "us_census.drop_duplicates()"
      ],
      "execution_count": 162,
      "outputs": [
        {
          "output_type": "execute_result",
          "data": {
            "text/html": [
              "<div>\n",
              "<style scoped>\n",
              "    .dataframe tbody tr th:only-of-type {\n",
              "        vertical-align: middle;\n",
              "    }\n",
              "\n",
              "    .dataframe tbody tr th {\n",
              "        vertical-align: top;\n",
              "    }\n",
              "\n",
              "    .dataframe thead th {\n",
              "        text-align: right;\n",
              "    }\n",
              "</style>\n",
              "<table border=\"1\" class=\"dataframe\">\n",
              "  <thead>\n",
              "    <tr style=\"text-align: right;\">\n",
              "      <th></th>\n",
              "      <th>State</th>\n",
              "      <th>TotalPop</th>\n",
              "      <th>Hispanic</th>\n",
              "      <th>White</th>\n",
              "      <th>Black</th>\n",
              "      <th>Native</th>\n",
              "      <th>Asian</th>\n",
              "      <th>Pacific</th>\n",
              "      <th>Other</th>\n",
              "      <th>Income</th>\n",
              "      <th>Men</th>\n",
              "      <th>Women</th>\n",
              "    </tr>\n",
              "  </thead>\n",
              "  <tbody>\n",
              "    <tr>\n",
              "      <th>0</th>\n",
              "      <td>Alabama</td>\n",
              "      <td>4830620.0</td>\n",
              "      <td>0.037516</td>\n",
              "      <td>0.618787</td>\n",
              "      <td>0.312530</td>\n",
              "      <td>0.004532</td>\n",
              "      <td>0.010503</td>\n",
              "      <td>0.000344</td>\n",
              "      <td>0.015789</td>\n",
              "      <td>43296.358603</td>\n",
              "      <td>2341093.0</td>\n",
              "      <td>2489527.0</td>\n",
              "    </tr>\n",
              "    <tr>\n",
              "      <th>1</th>\n",
              "      <td>Alaska</td>\n",
              "      <td>733375.0</td>\n",
              "      <td>0.059096</td>\n",
              "      <td>0.609102</td>\n",
              "      <td>0.028485</td>\n",
              "      <td>0.163910</td>\n",
              "      <td>0.054503</td>\n",
              "      <td>0.010587</td>\n",
              "      <td>0.074317</td>\n",
              "      <td>70354.743902</td>\n",
              "      <td>384160.0</td>\n",
              "      <td>349215.0</td>\n",
              "    </tr>\n",
              "    <tr>\n",
              "      <th>2</th>\n",
              "      <td>Arizona</td>\n",
              "      <td>6641928.0</td>\n",
              "      <td>0.295659</td>\n",
              "      <td>0.571200</td>\n",
              "      <td>0.038510</td>\n",
              "      <td>0.043551</td>\n",
              "      <td>0.028766</td>\n",
              "      <td>0.001676</td>\n",
              "      <td>0.020638</td>\n",
              "      <td>54207.820955</td>\n",
              "      <td>3299088.0</td>\n",
              "      <td>3342840.0</td>\n",
              "    </tr>\n",
              "    <tr>\n",
              "      <th>3</th>\n",
              "      <td>Arkansas</td>\n",
              "      <td>2958208.0</td>\n",
              "      <td>0.062155</td>\n",
              "      <td>0.711378</td>\n",
              "      <td>0.189688</td>\n",
              "      <td>0.005229</td>\n",
              "      <td>0.011423</td>\n",
              "      <td>0.001469</td>\n",
              "      <td>0.018658</td>\n",
              "      <td>41935.633968</td>\n",
              "      <td>1451913.0</td>\n",
              "      <td>1506295.0</td>\n",
              "    </tr>\n",
              "    <tr>\n",
              "      <th>4</th>\n",
              "      <td>California</td>\n",
              "      <td>38421464.0</td>\n",
              "      <td>0.372919</td>\n",
              "      <td>0.402158</td>\n",
              "      <td>0.056774</td>\n",
              "      <td>0.004053</td>\n",
              "      <td>0.130522</td>\n",
              "      <td>0.003514</td>\n",
              "      <td>0.030060</td>\n",
              "      <td>67264.782303</td>\n",
              "      <td>19087135.0</td>\n",
              "      <td>19334329.0</td>\n",
              "    </tr>\n",
              "    <tr>\n",
              "      <th>5</th>\n",
              "      <td>Colorado</td>\n",
              "      <td>5278906.0</td>\n",
              "      <td>0.207844</td>\n",
              "      <td>0.698956</td>\n",
              "      <td>0.035464</td>\n",
              "      <td>0.005738</td>\n",
              "      <td>0.026620</td>\n",
              "      <td>0.003514</td>\n",
              "      <td>0.021864</td>\n",
              "      <td>64657.801787</td>\n",
              "      <td>2648667.0</td>\n",
              "      <td>2630239.0</td>\n",
              "    </tr>\n",
              "    <tr>\n",
              "      <th>7</th>\n",
              "      <td>Connecticut</td>\n",
              "      <td>3593222.0</td>\n",
              "      <td>0.156048</td>\n",
              "      <td>0.676771</td>\n",
              "      <td>0.103481</td>\n",
              "      <td>0.001262</td>\n",
              "      <td>0.040220</td>\n",
              "      <td>0.000186</td>\n",
              "      <td>0.022033</td>\n",
              "      <td>76146.560588</td>\n",
              "      <td>1751607.0</td>\n",
              "      <td>1841615.0</td>\n",
              "    </tr>\n",
              "    <tr>\n",
              "      <th>8</th>\n",
              "      <td>Delaware</td>\n",
              "      <td>926454.0</td>\n",
              "      <td>0.088248</td>\n",
              "      <td>0.646327</td>\n",
              "      <td>0.207439</td>\n",
              "      <td>0.002598</td>\n",
              "      <td>0.032687</td>\n",
              "      <td>0.000186</td>\n",
              "      <td>0.022515</td>\n",
              "      <td>61827.976636</td>\n",
              "      <td>448413.0</td>\n",
              "      <td>478041.0</td>\n",
              "    </tr>\n",
              "    <tr>\n",
              "      <th>9</th>\n",
              "      <td>District of Columbia</td>\n",
              "      <td>647484.0</td>\n",
              "      <td>0.091659</td>\n",
              "      <td>0.331039</td>\n",
              "      <td>0.517765</td>\n",
              "      <td>0.002006</td>\n",
              "      <td>0.033832</td>\n",
              "      <td>0.000296</td>\n",
              "      <td>0.023402</td>\n",
              "      <td>75466.363636</td>\n",
              "      <td>306674.0</td>\n",
              "      <td>340810.0</td>\n",
              "    </tr>\n",
              "    <tr>\n",
              "      <th>10</th>\n",
              "      <td>Florida</td>\n",
              "      <td>19645772.0</td>\n",
              "      <td>0.213385</td>\n",
              "      <td>0.590837</td>\n",
              "      <td>0.151657</td>\n",
              "      <td>0.002105</td>\n",
              "      <td>0.022832</td>\n",
              "      <td>0.000515</td>\n",
              "      <td>0.018669</td>\n",
              "      <td>50690.194987</td>\n",
              "      <td>9600009.0</td>\n",
              "      <td>10045763.0</td>\n",
              "    </tr>\n",
              "    <tr>\n",
              "      <th>11</th>\n",
              "      <td>Georgia</td>\n",
              "      <td>10006693.0</td>\n",
              "      <td>0.084182</td>\n",
              "      <td>0.542863</td>\n",
              "      <td>0.320883</td>\n",
              "      <td>0.001876</td>\n",
              "      <td>0.030976</td>\n",
              "      <td>0.000466</td>\n",
              "      <td>0.018753</td>\n",
              "      <td>50811.082051</td>\n",
              "      <td>4883331.0</td>\n",
              "      <td>5123362.0</td>\n",
              "    </tr>\n",
              "    <tr>\n",
              "      <th>13</th>\n",
              "      <td>Hawaii</td>\n",
              "      <td>1406299.0</td>\n",
              "      <td>0.091867</td>\n",
              "      <td>0.250323</td>\n",
              "      <td>0.020528</td>\n",
              "      <td>0.001449</td>\n",
              "      <td>0.365921</td>\n",
              "      <td>0.087589</td>\n",
              "      <td>0.182323</td>\n",
              "      <td>73264.426282</td>\n",
              "      <td>709871.0</td>\n",
              "      <td>696428.0</td>\n",
              "    </tr>\n",
              "    <tr>\n",
              "      <th>14</th>\n",
              "      <td>Idaho</td>\n",
              "      <td>1616547.0</td>\n",
              "      <td>0.115054</td>\n",
              "      <td>0.831362</td>\n",
              "      <td>0.005668</td>\n",
              "      <td>0.014681</td>\n",
              "      <td>0.011359</td>\n",
              "      <td>0.001272</td>\n",
              "      <td>0.020604</td>\n",
              "      <td>48017.315436</td>\n",
              "      <td>810464.0</td>\n",
              "      <td>806083.0</td>\n",
              "    </tr>\n",
              "    <tr>\n",
              "      <th>15</th>\n",
              "      <td>Illinois</td>\n",
              "      <td>12873761.0</td>\n",
              "      <td>0.156017</td>\n",
              "      <td>0.608598</td>\n",
              "      <td>0.171084</td>\n",
              "      <td>0.001184</td>\n",
              "      <td>0.044754</td>\n",
              "      <td>0.000200</td>\n",
              "      <td>0.018162</td>\n",
              "      <td>59587.048875</td>\n",
              "      <td>6316899.0</td>\n",
              "      <td>6556862.0</td>\n",
              "    </tr>\n",
              "    <tr>\n",
              "      <th>16</th>\n",
              "      <td>Indiana</td>\n",
              "      <td>6568645.0</td>\n",
              "      <td>0.065367</td>\n",
              "      <td>0.784319</td>\n",
              "      <td>0.111870</td>\n",
              "      <td>0.001941</td>\n",
              "      <td>0.015783</td>\n",
              "      <td>0.000326</td>\n",
              "      <td>0.020394</td>\n",
              "      <td>48616.227848</td>\n",
              "      <td>3235263.0</td>\n",
              "      <td>3333382.0</td>\n",
              "    </tr>\n",
              "    <tr>\n",
              "      <th>17</th>\n",
              "      <td>Iowa</td>\n",
              "      <td>3093526.0</td>\n",
              "      <td>0.053036</td>\n",
              "      <td>0.877197</td>\n",
              "      <td>0.032570</td>\n",
              "      <td>0.002898</td>\n",
              "      <td>0.016994</td>\n",
              "      <td>0.000552</td>\n",
              "      <td>0.016753</td>\n",
              "      <td>53017.753041</td>\n",
              "      <td>1534595.0</td>\n",
              "      <td>1558931.0</td>\n",
              "    </tr>\n",
              "    <tr>\n",
              "      <th>19</th>\n",
              "      <td>Kansas</td>\n",
              "      <td>2892987.0</td>\n",
              "      <td>0.116443</td>\n",
              "      <td>0.759583</td>\n",
              "      <td>0.065679</td>\n",
              "      <td>0.007339</td>\n",
              "      <td>0.023311</td>\n",
              "      <td>0.000552</td>\n",
              "      <td>0.027093</td>\n",
              "      <td>53885.612648</td>\n",
              "      <td>1439862.0</td>\n",
              "      <td>1453125.0</td>\n",
              "    </tr>\n",
              "    <tr>\n",
              "      <th>20</th>\n",
              "      <td>Kentucky</td>\n",
              "      <td>4397353.0</td>\n",
              "      <td>0.032230</td>\n",
              "      <td>0.852307</td>\n",
              "      <td>0.082723</td>\n",
              "      <td>0.001666</td>\n",
              "      <td>0.011298</td>\n",
              "      <td>0.000464</td>\n",
              "      <td>0.019310</td>\n",
              "      <td>45285.802536</td>\n",
              "      <td>2164208.0</td>\n",
              "      <td>2233145.0</td>\n",
              "    </tr>\n",
              "    <tr>\n",
              "      <th>21</th>\n",
              "      <td>Louisiana</td>\n",
              "      <td>4625253.0</td>\n",
              "      <td>0.048665</td>\n",
              "      <td>0.549785</td>\n",
              "      <td>0.363262</td>\n",
              "      <td>0.004843</td>\n",
              "      <td>0.016691</td>\n",
              "      <td>0.000392</td>\n",
              "      <td>0.016362</td>\n",
              "      <td>44957.993761</td>\n",
              "      <td>2261156.0</td>\n",
              "      <td>2364097.0</td>\n",
              "    </tr>\n",
              "    <tr>\n",
              "      <th>22</th>\n",
              "      <td>Maine</td>\n",
              "      <td>1329100.0</td>\n",
              "      <td>0.014319</td>\n",
              "      <td>0.937074</td>\n",
              "      <td>0.011345</td>\n",
              "      <td>0.007883</td>\n",
              "      <td>0.009658</td>\n",
              "      <td>0.000157</td>\n",
              "      <td>0.019564</td>\n",
              "      <td>49181.974359</td>\n",
              "      <td>650081.0</td>\n",
              "      <td>679019.0</td>\n",
              "    </tr>\n",
              "    <tr>\n",
              "      <th>23</th>\n",
              "      <td>Maryland</td>\n",
              "      <td>5930538.0</td>\n",
              "      <td>0.084725</td>\n",
              "      <td>0.526790</td>\n",
              "      <td>0.306778</td>\n",
              "      <td>0.002031</td>\n",
              "      <td>0.053254</td>\n",
              "      <td>0.000363</td>\n",
              "      <td>0.026059</td>\n",
              "      <td>78765.400725</td>\n",
              "      <td>2872643.0</td>\n",
              "      <td>3057895.0</td>\n",
              "    </tr>\n",
              "    <tr>\n",
              "      <th>25</th>\n",
              "      <td>Massachusetts</td>\n",
              "      <td>6705586.0</td>\n",
              "      <td>0.114611</td>\n",
              "      <td>0.730411</td>\n",
              "      <td>0.068331</td>\n",
              "      <td>0.001283</td>\n",
              "      <td>0.058357</td>\n",
              "      <td>0.000198</td>\n",
              "      <td>0.026810</td>\n",
              "      <td>72838.936726</td>\n",
              "      <td>3249650.0</td>\n",
              "      <td>3455936.0</td>\n",
              "    </tr>\n",
              "    <tr>\n",
              "      <th>26</th>\n",
              "      <td>Michigan</td>\n",
              "      <td>9900571.0</td>\n",
              "      <td>0.046350</td>\n",
              "      <td>0.723817</td>\n",
              "      <td>0.176331</td>\n",
              "      <td>0.004844</td>\n",
              "      <td>0.024231</td>\n",
              "      <td>0.000195</td>\n",
              "      <td>0.024231</td>\n",
              "      <td>51201.830037</td>\n",
              "      <td>4861973.0</td>\n",
              "      <td>5038598.0</td>\n",
              "    </tr>\n",
              "    <tr>\n",
              "      <th>27</th>\n",
              "      <td>Minnesota</td>\n",
              "      <td>5419171.0</td>\n",
              "      <td>0.051529</td>\n",
              "      <td>0.814271</td>\n",
              "      <td>0.056598</td>\n",
              "      <td>0.010690</td>\n",
              "      <td>0.041561</td>\n",
              "      <td>0.000329</td>\n",
              "      <td>0.025022</td>\n",
              "      <td>62820.833959</td>\n",
              "      <td>2692166.0</td>\n",
              "      <td>2727005.0</td>\n",
              "    </tr>\n",
              "    <tr>\n",
              "      <th>28</th>\n",
              "      <td>Mississippi</td>\n",
              "      <td>2988081.0</td>\n",
              "      <td>0.028424</td>\n",
              "      <td>0.532863</td>\n",
              "      <td>0.414919</td>\n",
              "      <td>0.003900</td>\n",
              "      <td>0.008764</td>\n",
              "      <td>0.000150</td>\n",
              "      <td>0.010979</td>\n",
              "      <td>38909.919207</td>\n",
              "      <td>1451723.0</td>\n",
              "      <td>1536358.0</td>\n",
              "    </tr>\n",
              "    <tr>\n",
              "      <th>29</th>\n",
              "      <td>Missouri</td>\n",
              "      <td>6045448.0</td>\n",
              "      <td>0.040372</td>\n",
              "      <td>0.775081</td>\n",
              "      <td>0.141221</td>\n",
              "      <td>0.003633</td>\n",
              "      <td>0.016245</td>\n",
              "      <td>0.001017</td>\n",
              "      <td>0.022431</td>\n",
              "      <td>49763.987726</td>\n",
              "      <td>2964003.0</td>\n",
              "      <td>3081445.0</td>\n",
              "    </tr>\n",
              "    <tr>\n",
              "      <th>31</th>\n",
              "      <td>Montana</td>\n",
              "      <td>1014699.0</td>\n",
              "      <td>0.032689</td>\n",
              "      <td>0.864156</td>\n",
              "      <td>0.004293</td>\n",
              "      <td>0.070607</td>\n",
              "      <td>0.005704</td>\n",
              "      <td>0.000722</td>\n",
              "      <td>0.021830</td>\n",
              "      <td>47645.682836</td>\n",
              "      <td>510163.0</td>\n",
              "      <td>504536.0</td>\n",
              "    </tr>\n",
              "    <tr>\n",
              "      <th>32</th>\n",
              "      <td>Nebraska</td>\n",
              "      <td>1869365.0</td>\n",
              "      <td>0.092038</td>\n",
              "      <td>0.811395</td>\n",
              "      <td>0.049562</td>\n",
              "      <td>0.008645</td>\n",
              "      <td>0.018590</td>\n",
              "      <td>0.000571</td>\n",
              "      <td>0.019199</td>\n",
              "      <td>55916.469697</td>\n",
              "      <td>929606.0</td>\n",
              "      <td>939759.0</td>\n",
              "    </tr>\n",
              "    <tr>\n",
              "      <th>33</th>\n",
              "      <td>Nevada</td>\n",
              "      <td>2798636.0</td>\n",
              "      <td>0.271009</td>\n",
              "      <td>0.532393</td>\n",
              "      <td>0.077396</td>\n",
              "      <td>0.010872</td>\n",
              "      <td>0.070957</td>\n",
              "      <td>0.005745</td>\n",
              "      <td>0.031627</td>\n",
              "      <td>55526.525074</td>\n",
              "      <td>1407735.0</td>\n",
              "      <td>1390901.0</td>\n",
              "    </tr>\n",
              "    <tr>\n",
              "      <th>34</th>\n",
              "      <td>New Hampshire</td>\n",
              "      <td>1324201.0</td>\n",
              "      <td>0.033219</td>\n",
              "      <td>0.913192</td>\n",
              "      <td>0.012277</td>\n",
              "      <td>0.001428</td>\n",
              "      <td>0.021914</td>\n",
              "      <td>0.000161</td>\n",
              "      <td>0.017808</td>\n",
              "      <td>68728.859589</td>\n",
              "      <td>653484.0</td>\n",
              "      <td>670717.0</td>\n",
              "    </tr>\n",
              "    <tr>\n",
              "      <th>35</th>\n",
              "      <td>New Jersey</td>\n",
              "      <td>8904413.0</td>\n",
              "      <td>0.187495</td>\n",
              "      <td>0.564888</td>\n",
              "      <td>0.143879</td>\n",
              "      <td>0.001153</td>\n",
              "      <td>0.081600</td>\n",
              "      <td>0.000313</td>\n",
              "      <td>0.020672</td>\n",
              "      <td>76581.083417</td>\n",
              "      <td>4343027.0</td>\n",
              "      <td>4561386.0</td>\n",
              "    </tr>\n",
              "    <tr>\n",
              "      <th>37</th>\n",
              "      <td>New Mexico</td>\n",
              "      <td>2084117.0</td>\n",
              "      <td>0.452829</td>\n",
              "      <td>0.406980</td>\n",
              "      <td>0.017550</td>\n",
              "      <td>0.092486</td>\n",
              "      <td>0.012343</td>\n",
              "      <td>0.000428</td>\n",
              "      <td>0.017384</td>\n",
              "      <td>47329.967871</td>\n",
              "      <td>1032414.0</td>\n",
              "      <td>1051703.0</td>\n",
              "    </tr>\n",
              "    <tr>\n",
              "      <th>38</th>\n",
              "      <td>New York</td>\n",
              "      <td>19673174.0</td>\n",
              "      <td>0.172414</td>\n",
              "      <td>0.564701</td>\n",
              "      <td>0.156680</td>\n",
              "      <td>0.003216</td>\n",
              "      <td>0.078972</td>\n",
              "      <td>0.000235</td>\n",
              "      <td>0.023782</td>\n",
              "      <td>64290.749113</td>\n",
              "      <td>9541801.0</td>\n",
              "      <td>10131373.0</td>\n",
              "    </tr>\n",
              "    <tr>\n",
              "      <th>39</th>\n",
              "      <td>North Carolina</td>\n",
              "      <td>9845333.0</td>\n",
              "      <td>0.084648</td>\n",
              "      <td>0.645977</td>\n",
              "      <td>0.213951</td>\n",
              "      <td>0.010855</td>\n",
              "      <td>0.023175</td>\n",
              "      <td>0.000523</td>\n",
              "      <td>0.020872</td>\n",
              "      <td>49937.464137</td>\n",
              "      <td>4795408.0</td>\n",
              "      <td>5049925.0</td>\n",
              "    </tr>\n",
              "    <tr>\n",
              "      <th>40</th>\n",
              "      <td>North Dakota</td>\n",
              "      <td>721640.0</td>\n",
              "      <td>0.028327</td>\n",
              "      <td>0.874483</td>\n",
              "      <td>0.012844</td>\n",
              "      <td>0.056512</td>\n",
              "      <td>0.009620</td>\n",
              "      <td>0.000523</td>\n",
              "      <td>0.017691</td>\n",
              "      <td>58188.112195</td>\n",
              "      <td>367963.0</td>\n",
              "      <td>353677.0</td>\n",
              "    </tr>\n",
              "    <tr>\n",
              "      <th>41</th>\n",
              "      <td>Ohio</td>\n",
              "      <td>11575977.0</td>\n",
              "      <td>0.036721</td>\n",
              "      <td>0.759031</td>\n",
              "      <td>0.162073</td>\n",
              "      <td>0.001689</td>\n",
              "      <td>0.016211</td>\n",
              "      <td>0.000226</td>\n",
              "      <td>0.024050</td>\n",
              "      <td>49655.248466</td>\n",
              "      <td>5662893.0</td>\n",
              "      <td>5913084.0</td>\n",
              "    </tr>\n",
              "    <tr>\n",
              "      <th>43</th>\n",
              "      <td>Oklahoma</td>\n",
              "      <td>3849733.0</td>\n",
              "      <td>0.100799</td>\n",
              "      <td>0.660594</td>\n",
              "      <td>0.083147</td>\n",
              "      <td>0.067168</td>\n",
              "      <td>0.018011</td>\n",
              "      <td>0.001062</td>\n",
              "      <td>0.069217</td>\n",
              "      <td>48100.854267</td>\n",
              "      <td>1906944.0</td>\n",
              "      <td>1942789.0</td>\n",
              "    </tr>\n",
              "    <tr>\n",
              "      <th>44</th>\n",
              "      <td>Oregon</td>\n",
              "      <td>3939233.0</td>\n",
              "      <td>0.114412</td>\n",
              "      <td>0.783955</td>\n",
              "      <td>0.017308</td>\n",
              "      <td>0.010002</td>\n",
              "      <td>0.035949</td>\n",
              "      <td>0.003453</td>\n",
              "      <td>0.034920</td>\n",
              "      <td>54271.901818</td>\n",
              "      <td>1948453.0</td>\n",
              "      <td>1990780.0</td>\n",
              "    </tr>\n",
              "    <tr>\n",
              "      <th>45</th>\n",
              "      <td>Pennsylvania</td>\n",
              "      <td>12779559.0</td>\n",
              "      <td>0.061280</td>\n",
              "      <td>0.773839</td>\n",
              "      <td>0.116339</td>\n",
              "      <td>0.001193</td>\n",
              "      <td>0.027978</td>\n",
              "      <td>0.000194</td>\n",
              "      <td>0.019178</td>\n",
              "      <td>56170.464510</td>\n",
              "      <td>6245344.0</td>\n",
              "      <td>6534215.0</td>\n",
              "    </tr>\n",
              "    <tr>\n",
              "      <th>46</th>\n",
              "      <td>Puerto Rico</td>\n",
              "      <td>3583073.0</td>\n",
              "      <td>0.988936</td>\n",
              "      <td>0.007736</td>\n",
              "      <td>0.000926</td>\n",
              "      <td>0.000028</td>\n",
              "      <td>0.000752</td>\n",
              "      <td>0.000012</td>\n",
              "      <td>0.001610</td>\n",
              "      <td>20720.538286</td>\n",
              "      <td>1713860.0</td>\n",
              "      <td>1869213.0</td>\n",
              "    </tr>\n",
              "    <tr>\n",
              "      <th>47</th>\n",
              "      <td>Rhode Island</td>\n",
              "      <td>1053661.0</td>\n",
              "      <td>0.133567</td>\n",
              "      <td>0.743254</td>\n",
              "      <td>0.056829</td>\n",
              "      <td>0.003463</td>\n",
              "      <td>0.032475</td>\n",
              "      <td>0.000358</td>\n",
              "      <td>0.030054</td>\n",
              "      <td>59125.270833</td>\n",
              "      <td>510388.0</td>\n",
              "      <td>543273.0</td>\n",
              "    </tr>\n",
              "    <tr>\n",
              "      <th>49</th>\n",
              "      <td>South Carolina</td>\n",
              "      <td>4777576.0</td>\n",
              "      <td>0.050567</td>\n",
              "      <td>0.628887</td>\n",
              "      <td>0.287509</td>\n",
              "      <td>0.002924</td>\n",
              "      <td>0.012492</td>\n",
              "      <td>0.000470</td>\n",
              "      <td>0.017151</td>\n",
              "      <td>46296.807763</td>\n",
              "      <td>2322409.0</td>\n",
              "      <td>2455167.0</td>\n",
              "    </tr>\n",
              "    <tr>\n",
              "      <th>50</th>\n",
              "      <td>South Dakota</td>\n",
              "      <td>843190.0</td>\n",
              "      <td>0.032396</td>\n",
              "      <td>0.825009</td>\n",
              "      <td>0.014239</td>\n",
              "      <td>0.094176</td>\n",
              "      <td>0.010194</td>\n",
              "      <td>0.000419</td>\n",
              "      <td>0.023568</td>\n",
              "      <td>51805.405405</td>\n",
              "      <td>423477.0</td>\n",
              "      <td>419713.0</td>\n",
              "    </tr>\n",
              "    <tr>\n",
              "      <th>51</th>\n",
              "      <td>Tennessee</td>\n",
              "      <td>6499615.0</td>\n",
              "      <td>0.047200</td>\n",
              "      <td>0.734901</td>\n",
              "      <td>0.182838</td>\n",
              "      <td>0.002266</td>\n",
              "      <td>0.014073</td>\n",
              "      <td>0.000432</td>\n",
              "      <td>0.018290</td>\n",
              "      <td>47328.083617</td>\n",
              "      <td>3167756.0</td>\n",
              "      <td>3331859.0</td>\n",
              "    </tr>\n",
              "    <tr>\n",
              "      <th>52</th>\n",
              "      <td>Texas</td>\n",
              "      <td>26538614.0</td>\n",
              "      <td>0.380467</td>\n",
              "      <td>0.446879</td>\n",
              "      <td>0.116500</td>\n",
              "      <td>0.002611</td>\n",
              "      <td>0.036697</td>\n",
              "      <td>0.000688</td>\n",
              "      <td>0.016156</td>\n",
              "      <td>55874.522601</td>\n",
              "      <td>13171316.0</td>\n",
              "      <td>13367298.0</td>\n",
              "    </tr>\n",
              "    <tr>\n",
              "      <th>53</th>\n",
              "      <td>Utah</td>\n",
              "      <td>2903379.0</td>\n",
              "      <td>0.134684</td>\n",
              "      <td>0.794068</td>\n",
              "      <td>0.010179</td>\n",
              "      <td>0.010814</td>\n",
              "      <td>0.021961</td>\n",
              "      <td>0.008260</td>\n",
              "      <td>0.020034</td>\n",
              "      <td>63488.917808</td>\n",
              "      <td>1459229.0</td>\n",
              "      <td>1444150.0</td>\n",
              "    </tr>\n",
              "    <tr>\n",
              "      <th>55</th>\n",
              "      <td>Vermont</td>\n",
              "      <td>626604.0</td>\n",
              "      <td>0.016093</td>\n",
              "      <td>0.939831</td>\n",
              "      <td>0.009809</td>\n",
              "      <td>0.003016</td>\n",
              "      <td>0.012388</td>\n",
              "      <td>0.000306</td>\n",
              "      <td>0.018557</td>\n",
              "      <td>55602.967213</td>\n",
              "      <td>308573.0</td>\n",
              "      <td>318031.0</td>\n",
              "    </tr>\n",
              "    <tr>\n",
              "      <th>56</th>\n",
              "      <td>Virginia</td>\n",
              "      <td>8256630.0</td>\n",
              "      <td>0.080110</td>\n",
              "      <td>0.632710</td>\n",
              "      <td>0.201760</td>\n",
              "      <td>0.002125</td>\n",
              "      <td>0.054552</td>\n",
              "      <td>0.000647</td>\n",
              "      <td>0.028095</td>\n",
              "      <td>72866.013412</td>\n",
              "      <td>4060948.0</td>\n",
              "      <td>4195682.0</td>\n",
              "    </tr>\n",
              "    <tr>\n",
              "      <th>57</th>\n",
              "      <td>Washington</td>\n",
              "      <td>6985464.0</td>\n",
              "      <td>0.111410</td>\n",
              "      <td>0.720384</td>\n",
              "      <td>0.033844</td>\n",
              "      <td>0.014107</td>\n",
              "      <td>0.070220</td>\n",
              "      <td>0.006099</td>\n",
              "      <td>0.043936</td>\n",
              "      <td>64493.767684</td>\n",
              "      <td>3487725.0</td>\n",
              "      <td>3497739.0</td>\n",
              "    </tr>\n",
              "    <tr>\n",
              "      <th>58</th>\n",
              "      <td>West Virginia</td>\n",
              "      <td>1851420.0</td>\n",
              "      <td>0.012909</td>\n",
              "      <td>0.921762</td>\n",
              "      <td>0.036628</td>\n",
              "      <td>0.001527</td>\n",
              "      <td>0.006824</td>\n",
              "      <td>0.000264</td>\n",
              "      <td>0.020085</td>\n",
              "      <td>41437.111570</td>\n",
              "      <td>913631.0</td>\n",
              "      <td>937789.0</td>\n",
              "    </tr>\n",
              "    <tr>\n",
              "      <th>59</th>\n",
              "      <td>Wisconsin</td>\n",
              "      <td>5742117.0</td>\n",
              "      <td>0.066833</td>\n",
              "      <td>0.798640</td>\n",
              "      <td>0.081952</td>\n",
              "      <td>0.009537</td>\n",
              "      <td>0.024042</td>\n",
              "      <td>0.000208</td>\n",
              "      <td>0.018787</td>\n",
              "      <td>53898.889209</td>\n",
              "      <td>2851385.0</td>\n",
              "      <td>2890732.0</td>\n",
              "    </tr>\n",
              "  </tbody>\n",
              "</table>\n",
              "</div>"
            ],
            "text/plain": [
              "                   State    TotalPop  ...         Men       Women\n",
              "0                Alabama   4830620.0  ...   2341093.0   2489527.0\n",
              "1                 Alaska    733375.0  ...    384160.0    349215.0\n",
              "2                Arizona   6641928.0  ...   3299088.0   3342840.0\n",
              "3               Arkansas   2958208.0  ...   1451913.0   1506295.0\n",
              "4             California  38421464.0  ...  19087135.0  19334329.0\n",
              "5               Colorado   5278906.0  ...   2648667.0   2630239.0\n",
              "7            Connecticut   3593222.0  ...   1751607.0   1841615.0\n",
              "8               Delaware    926454.0  ...    448413.0    478041.0\n",
              "9   District of Columbia    647484.0  ...    306674.0    340810.0\n",
              "10               Florida  19645772.0  ...   9600009.0  10045763.0\n",
              "11               Georgia  10006693.0  ...   4883331.0   5123362.0\n",
              "13                Hawaii   1406299.0  ...    709871.0    696428.0\n",
              "14                 Idaho   1616547.0  ...    810464.0    806083.0\n",
              "15              Illinois  12873761.0  ...   6316899.0   6556862.0\n",
              "16               Indiana   6568645.0  ...   3235263.0   3333382.0\n",
              "17                  Iowa   3093526.0  ...   1534595.0   1558931.0\n",
              "19                Kansas   2892987.0  ...   1439862.0   1453125.0\n",
              "20              Kentucky   4397353.0  ...   2164208.0   2233145.0\n",
              "21             Louisiana   4625253.0  ...   2261156.0   2364097.0\n",
              "22                 Maine   1329100.0  ...    650081.0    679019.0\n",
              "23              Maryland   5930538.0  ...   2872643.0   3057895.0\n",
              "25         Massachusetts   6705586.0  ...   3249650.0   3455936.0\n",
              "26              Michigan   9900571.0  ...   4861973.0   5038598.0\n",
              "27             Minnesota   5419171.0  ...   2692166.0   2727005.0\n",
              "28           Mississippi   2988081.0  ...   1451723.0   1536358.0\n",
              "29              Missouri   6045448.0  ...   2964003.0   3081445.0\n",
              "31               Montana   1014699.0  ...    510163.0    504536.0\n",
              "32              Nebraska   1869365.0  ...    929606.0    939759.0\n",
              "33                Nevada   2798636.0  ...   1407735.0   1390901.0\n",
              "34         New Hampshire   1324201.0  ...    653484.0    670717.0\n",
              "35            New Jersey   8904413.0  ...   4343027.0   4561386.0\n",
              "37            New Mexico   2084117.0  ...   1032414.0   1051703.0\n",
              "38              New York  19673174.0  ...   9541801.0  10131373.0\n",
              "39        North Carolina   9845333.0  ...   4795408.0   5049925.0\n",
              "40          North Dakota    721640.0  ...    367963.0    353677.0\n",
              "41                  Ohio  11575977.0  ...   5662893.0   5913084.0\n",
              "43              Oklahoma   3849733.0  ...   1906944.0   1942789.0\n",
              "44                Oregon   3939233.0  ...   1948453.0   1990780.0\n",
              "45          Pennsylvania  12779559.0  ...   6245344.0   6534215.0\n",
              "46           Puerto Rico   3583073.0  ...   1713860.0   1869213.0\n",
              "47          Rhode Island   1053661.0  ...    510388.0    543273.0\n",
              "49        South Carolina   4777576.0  ...   2322409.0   2455167.0\n",
              "50          South Dakota    843190.0  ...    423477.0    419713.0\n",
              "51             Tennessee   6499615.0  ...   3167756.0   3331859.0\n",
              "52                 Texas  26538614.0  ...  13171316.0  13367298.0\n",
              "53                  Utah   2903379.0  ...   1459229.0   1444150.0\n",
              "55               Vermont    626604.0  ...    308573.0    318031.0\n",
              "56              Virginia   8256630.0  ...   4060948.0   4195682.0\n",
              "57            Washington   6985464.0  ...   3487725.0   3497739.0\n",
              "58         West Virginia   1851420.0  ...    913631.0    937789.0\n",
              "59             Wisconsin   5742117.0  ...   2851385.0   2890732.0\n",
              "\n",
              "[51 rows x 12 columns]"
            ]
          },
          "metadata": {
            "tags": []
          },
          "execution_count": 162
        }
      ]
    },
    {
      "cell_type": "code",
      "metadata": {
        "id": "e85ju5o58gU9"
      },
      "source": [
        ""
      ],
      "execution_count": 162,
      "outputs": []
    },
    {
      "cell_type": "markdown",
      "metadata": {
        "id": "-yrqbASirQGF"
      },
      "source": [
        "## Pie Chart showing distribution ethnicities in California, Texas and District of Columbia"
      ]
    },
    {
      "cell_type": "code",
      "metadata": {
        "colab": {
          "base_uri": "https://localhost:8080/",
          "height": 553
        },
        "id": "FE6xZlc1sCTv",
        "outputId": "cb58f695-3993-404a-e2e8-4f2ccff0211d"
      },
      "source": [
        "us_census.iloc[4,2:9].plot.pie(title='Breakdown of Ethnicities in California',autopct='%1.1f%%', figsize=(9,9))"
      ],
      "execution_count": 163,
      "outputs": [
        {
          "output_type": "execute_result",
          "data": {
            "text/plain": [
              "<matplotlib.axes._subplots.AxesSubplot at 0x7fd3fbad2d10>"
            ]
          },
          "metadata": {
            "tags": []
          },
          "execution_count": 163
        },
        {
          "output_type": "display_data",
          "data": {
            "image/png": "[encoded data removed]",
            "text/plain": [
              "<Figure size 648x648 with 1 Axes>"
            ]
          },
          "metadata": {
            "tags": []
          }
        }
      ]
    },
    {
      "cell_type": "code",
      "metadata": {
        "colab": {
          "base_uri": "https://localhost:8080/",
          "height": 553
        },
        "id": "MDWk6hZBscWy",
        "outputId": "b0f5c39b-85ea-4b1f-e9aa-8b76516f7dac"
      },
      "source": [
        "us_census.iloc[53,2:9].plot.pie(title='Breakdown of Ethnicities in Texas',autopct='%1.1f%%', figsize=(9,9))"
      ],
      "execution_count": 164,
      "outputs": [
        {
          "output_type": "execute_result",
          "data": {
            "text/plain": [
              "<matplotlib.axes._subplots.AxesSubplot at 0x7fd3fba92290>"
            ]
          },
          "metadata": {
            "tags": []
          },
          "execution_count": 164
        },
        {
          "output_type": "display_data",
          "data": {
            "image/png": "[encoded data removed]",
            "text/plain": [
              "<Figure size 648x648 with 1 Axes>"
            ]
          },
          "metadata": {
            "tags": []
          }
        }
      ]
    },
    {
      "cell_type": "code",
      "metadata": {
        "colab": {
          "base_uri": "https://localhost:8080/",
          "height": 553
        },
        "id": "W5H7a8omD7-j",
        "outputId": "2be6a29c-9bc5-4a10-fecc-ce9cdeec9c27"
      },
      "source": [
        "us_census.iloc[9,2:9].plot.pie(title='Breakdown of Ethnicities in D.C.',autopct='%1.1f%%', figsize=(9,9))"
      ],
      "execution_count": 165,
      "outputs": [
        {
          "output_type": "execute_result",
          "data": {
            "text/plain": [
              "<matplotlib.axes._subplots.AxesSubplot at 0x7fd3fba5c310>"
            ]
          },
          "metadata": {
            "tags": []
          },
          "execution_count": 165
        },
        {
          "output_type": "display_data",
          "data": {
            "image/png": "[encoded data removed]",
            "text/plain": [
              "<Figure size 648x648 with 1 Axes>"
            ]
          },
          "metadata": {
            "tags": []
          }
        }
      ]
    },
    {
      "cell_type": "code",
      "metadata": {
        "id": "cTLofePsEdqS"
      },
      "source": [
        ""
      ],
      "execution_count": 165,
      "outputs": []
    },
    {
      "cell_type": "markdown",
      "metadata": {
        "id": "DALj2YiAn6cq"
      },
      "source": [
        "# Pandas Assigment Part 2"
      ]
    },
    {
      "cell_type": "markdown",
      "metadata": {
        "id": "uL-M4UTPowTg"
      },
      "source": [
        "# 1."
      ]
    },
    {
      "cell_type": "markdown",
      "metadata": {
        "id": "kx-v8hUvn_BJ"
      },
      "source": [
        "loading the csv"
      ]
    },
    {
      "cell_type": "code",
      "metadata": {
        "id": "Mj9KJrJkoCkW"
      },
      "source": [
        "inventory =pd.read_csv('inventory.csv')"
      ],
      "execution_count": 166,
      "outputs": []
    },
    {
      "cell_type": "markdown",
      "metadata": {
        "id": "haI3raXsozMt"
      },
      "source": [
        "# 2."
      ]
    },
    {
      "cell_type": "code",
      "metadata": {
        "colab": {
          "base_uri": "https://localhost:8080/",
          "height": 359
        },
        "id": "M8hZSYizoJTM",
        "outputId": "e3148e00-fb45-4116-b961-4ddfc6adedf4"
      },
      "source": [
        "inventory.head(10)"
      ],
      "execution_count": 167,
      "outputs": [
        {
          "output_type": "execute_result",
          "data": {
            "text/html": [
              "<div>\n",
              "<style scoped>\n",
              "    .dataframe tbody tr th:only-of-type {\n",
              "        vertical-align: middle;\n",
              "    }\n",
              "\n",
              "    .dataframe tbody tr th {\n",
              "        vertical-align: top;\n",
              "    }\n",
              "\n",
              "    .dataframe thead th {\n",
              "        text-align: right;\n",
              "    }\n",
              "</style>\n",
              "<table border=\"1\" class=\"dataframe\">\n",
              "  <thead>\n",
              "    <tr style=\"text-align: right;\">\n",
              "      <th></th>\n",
              "      <th>location</th>\n",
              "      <th>product_type</th>\n",
              "      <th>product_description</th>\n",
              "      <th>quantity</th>\n",
              "      <th>price</th>\n",
              "    </tr>\n",
              "  </thead>\n",
              "  <tbody>\n",
              "    <tr>\n",
              "      <th>0</th>\n",
              "      <td>Staten Island</td>\n",
              "      <td>seeds</td>\n",
              "      <td>daisy</td>\n",
              "      <td>4</td>\n",
              "      <td>6.99</td>\n",
              "    </tr>\n",
              "    <tr>\n",
              "      <th>1</th>\n",
              "      <td>Staten Island</td>\n",
              "      <td>seeds</td>\n",
              "      <td>calla lily</td>\n",
              "      <td>46</td>\n",
              "      <td>19.99</td>\n",
              "    </tr>\n",
              "    <tr>\n",
              "      <th>2</th>\n",
              "      <td>Staten Island</td>\n",
              "      <td>seeds</td>\n",
              "      <td>tomato</td>\n",
              "      <td>85</td>\n",
              "      <td>13.99</td>\n",
              "    </tr>\n",
              "    <tr>\n",
              "      <th>3</th>\n",
              "      <td>Staten Island</td>\n",
              "      <td>garden tools</td>\n",
              "      <td>rake</td>\n",
              "      <td>4</td>\n",
              "      <td>13.99</td>\n",
              "    </tr>\n",
              "    <tr>\n",
              "      <th>4</th>\n",
              "      <td>Staten Island</td>\n",
              "      <td>garden tools</td>\n",
              "      <td>wheelbarrow</td>\n",
              "      <td>0</td>\n",
              "      <td>89.99</td>\n",
              "    </tr>\n",
              "    <tr>\n",
              "      <th>5</th>\n",
              "      <td>Staten Island</td>\n",
              "      <td>garden tools</td>\n",
              "      <td>spade</td>\n",
              "      <td>93</td>\n",
              "      <td>19.99</td>\n",
              "    </tr>\n",
              "    <tr>\n",
              "      <th>6</th>\n",
              "      <td>Staten Island</td>\n",
              "      <td>pest_control</td>\n",
              "      <td>insect killer</td>\n",
              "      <td>74</td>\n",
              "      <td>12.99</td>\n",
              "    </tr>\n",
              "    <tr>\n",
              "      <th>7</th>\n",
              "      <td>Staten Island</td>\n",
              "      <td>pest_control</td>\n",
              "      <td>weed killer</td>\n",
              "      <td>8</td>\n",
              "      <td>23.99</td>\n",
              "    </tr>\n",
              "    <tr>\n",
              "      <th>8</th>\n",
              "      <td>Staten Island</td>\n",
              "      <td>planter</td>\n",
              "      <td>20 inch terracotta planter</td>\n",
              "      <td>0</td>\n",
              "      <td>17.99</td>\n",
              "    </tr>\n",
              "    <tr>\n",
              "      <th>9</th>\n",
              "      <td>Staten Island</td>\n",
              "      <td>planter</td>\n",
              "      <td>8 inch plastic planter</td>\n",
              "      <td>53</td>\n",
              "      <td>3.99</td>\n",
              "    </tr>\n",
              "  </tbody>\n",
              "</table>\n",
              "</div>"
            ],
            "text/plain": [
              "        location  product_type         product_description  quantity  price\n",
              "0  Staten Island         seeds                       daisy         4   6.99\n",
              "1  Staten Island         seeds                  calla lily        46  19.99\n",
              "2  Staten Island         seeds                      tomato        85  13.99\n",
              "3  Staten Island  garden tools                        rake         4  13.99\n",
              "4  Staten Island  garden tools                 wheelbarrow         0  89.99\n",
              "5  Staten Island  garden tools                       spade        93  19.99\n",
              "6  Staten Island  pest_control               insect killer        74  12.99\n",
              "7  Staten Island  pest_control                 weed killer         8  23.99\n",
              "8  Staten Island       planter  20 inch terracotta planter         0  17.99\n",
              "9  Staten Island       planter      8 inch plastic planter        53   3.99"
            ]
          },
          "metadata": {
            "tags": []
          },
          "execution_count": 167
        }
      ]
    },
    {
      "cell_type": "markdown",
      "metadata": {
        "id": "HTwEFuKmooZN"
      },
      "source": [
        "# 3."
      ]
    },
    {
      "cell_type": "code",
      "metadata": {
        "id": "tHXSL6X-pUZM"
      },
      "source": [
        "staten_island= inventory.loc[inventory['location']== 'Staten Island']"
      ],
      "execution_count": 168,
      "outputs": []
    },
    {
      "cell_type": "markdown",
      "metadata": {
        "id": "Nwv90tappnww"
      },
      "source": [
        "# 4."
      ]
    },
    {
      "cell_type": "code",
      "metadata": {
        "id": "v4Z4OcCnqJuc"
      },
      "source": [
        "product_request = staten_island['product_description']"
      ],
      "execution_count": 169,
      "outputs": []
    },
    {
      "cell_type": "markdown",
      "metadata": {
        "id": "kFU4FVu6qjGv"
      },
      "source": [
        "# 5."
      ]
    },
    {
      "cell_type": "code",
      "metadata": {
        "id": "R7elVQOVqlIh"
      },
      "source": [
        "seed_request = inventory.loc[(inventory['location'] == 'Brooklyn') & (inventory['product_type'] == 'seeds')]"
      ],
      "execution_count": 170,
      "outputs": []
    },
    {
      "cell_type": "markdown",
      "metadata": {
        "id": "vvozLwvJ3DgG"
      },
      "source": [
        "# 6. "
      ]
    },
    {
      "cell_type": "code",
      "metadata": {
        "id": "oIjkDTJJ9l3U"
      },
      "source": [
        "inventory['in_stock'] = np.where(inventory['quantity']>0, True, False)"
      ],
      "execution_count": 172,
      "outputs": []
    },
    {
      "cell_type": "markdown",
      "metadata": {
        "id": "lncLsLgb61lH"
      },
      "source": [
        "# 7."
      ]
    },
    {
      "cell_type": "code",
      "metadata": {
        "id": "HFvm12Bj84Eq"
      },
      "source": [
        "inventory['total_value'] = inventory.apply(lambda row: row.quantity * row.price, axis=1)"
      ],
      "execution_count": 176,
      "outputs": []
    },
    {
      "cell_type": "markdown",
      "metadata": {
        "id": "spGXyWm4ARWO"
      },
      "source": [
        "# 8."
      ]
    },
    {
      "cell_type": "code",
      "metadata": {
        "id": "1636Apt1_9GJ"
      },
      "source": [
        "combine_lambda = lambda row: '{} - {}'.format(row.product_type,row.product_description)"
      ],
      "execution_count": 180,
      "outputs": []
    },
    {
      "cell_type": "markdown",
      "metadata": {
        "id": "cGuAMPu1AYQz"
      },
      "source": [
        "# 9."
      ]
    },
    {
      "cell_type": "code",
      "metadata": {
        "id": "4jMAgZKQ_E9q"
      },
      "source": [
        "inventory['full_description'] = inventory.apply(combine_lambda ,axis=1)"
      ],
      "execution_count": 181,
      "outputs": []
    },
    {
      "cell_type": "code",
      "metadata": {
        "colab": {
          "base_uri": "https://localhost:8080/",
          "height": 1000
        },
        "id": "Uec_bSt4_Soj",
        "outputId": "a53bb5a0-ee55-45d1-97d1-89e55bdbab17"
      },
      "source": [
        "inventory"
      ],
      "execution_count": 183,
      "outputs": [
        {
          "output_type": "execute_result",
          "data": {
            "text/html": [
              "<div>\n",
              "<style scoped>\n",
              "    .dataframe tbody tr th:only-of-type {\n",
              "        vertical-align: middle;\n",
              "    }\n",
              "\n",
              "    .dataframe tbody tr th {\n",
              "        vertical-align: top;\n",
              "    }\n",
              "\n",
              "    .dataframe thead th {\n",
              "        text-align: right;\n",
              "    }\n",
              "</style>\n",
              "<table border=\"1\" class=\"dataframe\">\n",
              "  <thead>\n",
              "    <tr style=\"text-align: right;\">\n",
              "      <th></th>\n",
              "      <th>location</th>\n",
              "      <th>product_type</th>\n",
              "      <th>product_description</th>\n",
              "      <th>quantity</th>\n",
              "      <th>price</th>\n",
              "      <th>in_stock</th>\n",
              "      <th>total_value</th>\n",
              "      <th>full_description</th>\n",
              "    </tr>\n",
              "  </thead>\n",
              "  <tbody>\n",
              "    <tr>\n",
              "      <th>0</th>\n",
              "      <td>Staten Island</td>\n",
              "      <td>seeds</td>\n",
              "      <td>daisy</td>\n",
              "      <td>4</td>\n",
              "      <td>6.99</td>\n",
              "      <td>True</td>\n",
              "      <td>27.96</td>\n",
              "      <td>seeds - daisy</td>\n",
              "    </tr>\n",
              "    <tr>\n",
              "      <th>1</th>\n",
              "      <td>Staten Island</td>\n",
              "      <td>seeds</td>\n",
              "      <td>calla lily</td>\n",
              "      <td>46</td>\n",
              "      <td>19.99</td>\n",
              "      <td>True</td>\n",
              "      <td>919.54</td>\n",
              "      <td>seeds - calla lily</td>\n",
              "    </tr>\n",
              "    <tr>\n",
              "      <th>2</th>\n",
              "      <td>Staten Island</td>\n",
              "      <td>seeds</td>\n",
              "      <td>tomato</td>\n",
              "      <td>85</td>\n",
              "      <td>13.99</td>\n",
              "      <td>True</td>\n",
              "      <td>1189.15</td>\n",
              "      <td>seeds - tomato</td>\n",
              "    </tr>\n",
              "    <tr>\n",
              "      <th>3</th>\n",
              "      <td>Staten Island</td>\n",
              "      <td>garden tools</td>\n",
              "      <td>rake</td>\n",
              "      <td>4</td>\n",
              "      <td>13.99</td>\n",
              "      <td>True</td>\n",
              "      <td>55.96</td>\n",
              "      <td>garden tools - rake</td>\n",
              "    </tr>\n",
              "    <tr>\n",
              "      <th>4</th>\n",
              "      <td>Staten Island</td>\n",
              "      <td>garden tools</td>\n",
              "      <td>wheelbarrow</td>\n",
              "      <td>0</td>\n",
              "      <td>89.99</td>\n",
              "      <td>False</td>\n",
              "      <td>0.00</td>\n",
              "      <td>garden tools - wheelbarrow</td>\n",
              "    </tr>\n",
              "    <tr>\n",
              "      <th>5</th>\n",
              "      <td>Staten Island</td>\n",
              "      <td>garden tools</td>\n",
              "      <td>spade</td>\n",
              "      <td>93</td>\n",
              "      <td>19.99</td>\n",
              "      <td>True</td>\n",
              "      <td>1859.07</td>\n",
              "      <td>garden tools - spade</td>\n",
              "    </tr>\n",
              "    <tr>\n",
              "      <th>6</th>\n",
              "      <td>Staten Island</td>\n",
              "      <td>pest_control</td>\n",
              "      <td>insect killer</td>\n",
              "      <td>74</td>\n",
              "      <td>12.99</td>\n",
              "      <td>True</td>\n",
              "      <td>961.26</td>\n",
              "      <td>pest_control - insect killer</td>\n",
              "    </tr>\n",
              "    <tr>\n",
              "      <th>7</th>\n",
              "      <td>Staten Island</td>\n",
              "      <td>pest_control</td>\n",
              "      <td>weed killer</td>\n",
              "      <td>8</td>\n",
              "      <td>23.99</td>\n",
              "      <td>True</td>\n",
              "      <td>191.92</td>\n",
              "      <td>pest_control - weed killer</td>\n",
              "    </tr>\n",
              "    <tr>\n",
              "      <th>8</th>\n",
              "      <td>Staten Island</td>\n",
              "      <td>planter</td>\n",
              "      <td>20 inch terracotta planter</td>\n",
              "      <td>0</td>\n",
              "      <td>17.99</td>\n",
              "      <td>False</td>\n",
              "      <td>0.00</td>\n",
              "      <td>planter - 20 inch terracotta planter</td>\n",
              "    </tr>\n",
              "    <tr>\n",
              "      <th>9</th>\n",
              "      <td>Staten Island</td>\n",
              "      <td>planter</td>\n",
              "      <td>8 inch plastic planter</td>\n",
              "      <td>53</td>\n",
              "      <td>3.99</td>\n",
              "      <td>True</td>\n",
              "      <td>211.47</td>\n",
              "      <td>planter - 8 inch plastic planter</td>\n",
              "    </tr>\n",
              "    <tr>\n",
              "      <th>10</th>\n",
              "      <td>Brooklyn</td>\n",
              "      <td>seeds</td>\n",
              "      <td>daisy</td>\n",
              "      <td>50</td>\n",
              "      <td>6.99</td>\n",
              "      <td>True</td>\n",
              "      <td>349.50</td>\n",
              "      <td>seeds - daisy</td>\n",
              "    </tr>\n",
              "    <tr>\n",
              "      <th>11</th>\n",
              "      <td>Brooklyn</td>\n",
              "      <td>seeds</td>\n",
              "      <td>calla lily</td>\n",
              "      <td>0</td>\n",
              "      <td>19.99</td>\n",
              "      <td>False</td>\n",
              "      <td>0.00</td>\n",
              "      <td>seeds - calla lily</td>\n",
              "    </tr>\n",
              "    <tr>\n",
              "      <th>12</th>\n",
              "      <td>Brooklyn</td>\n",
              "      <td>seeds</td>\n",
              "      <td>tomato</td>\n",
              "      <td>0</td>\n",
              "      <td>13.99</td>\n",
              "      <td>False</td>\n",
              "      <td>0.00</td>\n",
              "      <td>seeds - tomato</td>\n",
              "    </tr>\n",
              "    <tr>\n",
              "      <th>13</th>\n",
              "      <td>Brooklyn</td>\n",
              "      <td>garden tools</td>\n",
              "      <td>rake</td>\n",
              "      <td>15</td>\n",
              "      <td>13.99</td>\n",
              "      <td>True</td>\n",
              "      <td>209.85</td>\n",
              "      <td>garden tools - rake</td>\n",
              "    </tr>\n",
              "    <tr>\n",
              "      <th>14</th>\n",
              "      <td>Brooklyn</td>\n",
              "      <td>garden tools</td>\n",
              "      <td>wheelbarrow</td>\n",
              "      <td>82</td>\n",
              "      <td>89.99</td>\n",
              "      <td>True</td>\n",
              "      <td>7379.18</td>\n",
              "      <td>garden tools - wheelbarrow</td>\n",
              "    </tr>\n",
              "    <tr>\n",
              "      <th>15</th>\n",
              "      <td>Brooklyn</td>\n",
              "      <td>garden tools</td>\n",
              "      <td>spade</td>\n",
              "      <td>36</td>\n",
              "      <td>19.99</td>\n",
              "      <td>True</td>\n",
              "      <td>719.64</td>\n",
              "      <td>garden tools - spade</td>\n",
              "    </tr>\n",
              "    <tr>\n",
              "      <th>16</th>\n",
              "      <td>Brooklyn</td>\n",
              "      <td>pest_control</td>\n",
              "      <td>insect killer</td>\n",
              "      <td>80</td>\n",
              "      <td>12.99</td>\n",
              "      <td>True</td>\n",
              "      <td>1039.20</td>\n",
              "      <td>pest_control - insect killer</td>\n",
              "    </tr>\n",
              "    <tr>\n",
              "      <th>17</th>\n",
              "      <td>Brooklyn</td>\n",
              "      <td>pest_control</td>\n",
              "      <td>weed killer</td>\n",
              "      <td>76</td>\n",
              "      <td>23.99</td>\n",
              "      <td>True</td>\n",
              "      <td>1823.24</td>\n",
              "      <td>pest_control - weed killer</td>\n",
              "    </tr>\n",
              "    <tr>\n",
              "      <th>18</th>\n",
              "      <td>Brooklyn</td>\n",
              "      <td>planter</td>\n",
              "      <td>20 inch terracotta planter</td>\n",
              "      <td>5</td>\n",
              "      <td>17.99</td>\n",
              "      <td>True</td>\n",
              "      <td>89.95</td>\n",
              "      <td>planter - 20 inch terracotta planter</td>\n",
              "    </tr>\n",
              "    <tr>\n",
              "      <th>19</th>\n",
              "      <td>Brooklyn</td>\n",
              "      <td>planter</td>\n",
              "      <td>8 inch plastic planter</td>\n",
              "      <td>26</td>\n",
              "      <td>3.99</td>\n",
              "      <td>True</td>\n",
              "      <td>103.74</td>\n",
              "      <td>planter - 8 inch plastic planter</td>\n",
              "    </tr>\n",
              "    <tr>\n",
              "      <th>20</th>\n",
              "      <td>Queens</td>\n",
              "      <td>seeds</td>\n",
              "      <td>daisy</td>\n",
              "      <td>57</td>\n",
              "      <td>6.99</td>\n",
              "      <td>True</td>\n",
              "      <td>398.43</td>\n",
              "      <td>seeds - daisy</td>\n",
              "    </tr>\n",
              "    <tr>\n",
              "      <th>21</th>\n",
              "      <td>Queens</td>\n",
              "      <td>seeds</td>\n",
              "      <td>calla lily</td>\n",
              "      <td>95</td>\n",
              "      <td>19.99</td>\n",
              "      <td>True</td>\n",
              "      <td>1899.05</td>\n",
              "      <td>seeds - calla lily</td>\n",
              "    </tr>\n",
              "    <tr>\n",
              "      <th>22</th>\n",
              "      <td>Queens</td>\n",
              "      <td>seeds</td>\n",
              "      <td>tomato</td>\n",
              "      <td>45</td>\n",
              "      <td>13.99</td>\n",
              "      <td>True</td>\n",
              "      <td>629.55</td>\n",
              "      <td>seeds - tomato</td>\n",
              "    </tr>\n",
              "    <tr>\n",
              "      <th>23</th>\n",
              "      <td>Queens</td>\n",
              "      <td>garden tools</td>\n",
              "      <td>rake</td>\n",
              "      <td>21</td>\n",
              "      <td>13.99</td>\n",
              "      <td>True</td>\n",
              "      <td>293.79</td>\n",
              "      <td>garden tools - rake</td>\n",
              "    </tr>\n",
              "    <tr>\n",
              "      <th>24</th>\n",
              "      <td>Queens</td>\n",
              "      <td>garden tools</td>\n",
              "      <td>wheelbarrow</td>\n",
              "      <td>98</td>\n",
              "      <td>89.99</td>\n",
              "      <td>True</td>\n",
              "      <td>8819.02</td>\n",
              "      <td>garden tools - wheelbarrow</td>\n",
              "    </tr>\n",
              "    <tr>\n",
              "      <th>25</th>\n",
              "      <td>Queens</td>\n",
              "      <td>garden tools</td>\n",
              "      <td>spade</td>\n",
              "      <td>26</td>\n",
              "      <td>19.99</td>\n",
              "      <td>True</td>\n",
              "      <td>519.74</td>\n",
              "      <td>garden tools - spade</td>\n",
              "    </tr>\n",
              "    <tr>\n",
              "      <th>26</th>\n",
              "      <td>Queens</td>\n",
              "      <td>pest_control</td>\n",
              "      <td>insect killer</td>\n",
              "      <td>0</td>\n",
              "      <td>12.99</td>\n",
              "      <td>False</td>\n",
              "      <td>0.00</td>\n",
              "      <td>pest_control - insect killer</td>\n",
              "    </tr>\n",
              "    <tr>\n",
              "      <th>27</th>\n",
              "      <td>Queens</td>\n",
              "      <td>pest_control</td>\n",
              "      <td>weed killer</td>\n",
              "      <td>16</td>\n",
              "      <td>23.99</td>\n",
              "      <td>True</td>\n",
              "      <td>383.84</td>\n",
              "      <td>pest_control - weed killer</td>\n",
              "    </tr>\n",
              "    <tr>\n",
              "      <th>28</th>\n",
              "      <td>Queens</td>\n",
              "      <td>planter</td>\n",
              "      <td>20 inch terracotta planter</td>\n",
              "      <td>87</td>\n",
              "      <td>17.99</td>\n",
              "      <td>True</td>\n",
              "      <td>1565.13</td>\n",
              "      <td>planter - 20 inch terracotta planter</td>\n",
              "    </tr>\n",
              "  </tbody>\n",
              "</table>\n",
              "</div>"
            ],
            "text/plain": [
              "         location  ...                      full_description\n",
              "0   Staten Island  ...                         seeds - daisy\n",
              "1   Staten Island  ...                    seeds - calla lily\n",
              "2   Staten Island  ...                        seeds - tomato\n",
              "3   Staten Island  ...                   garden tools - rake\n",
              "4   Staten Island  ...            garden tools - wheelbarrow\n",
              "5   Staten Island  ...                  garden tools - spade\n",
              "6   Staten Island  ...          pest_control - insect killer\n",
              "7   Staten Island  ...            pest_control - weed killer\n",
              "8   Staten Island  ...  planter - 20 inch terracotta planter\n",
              "9   Staten Island  ...      planter - 8 inch plastic planter\n",
              "10       Brooklyn  ...                         seeds - daisy\n",
              "11       Brooklyn  ...                    seeds - calla lily\n",
              "12       Brooklyn  ...                        seeds - tomato\n",
              "13       Brooklyn  ...                   garden tools - rake\n",
              "14       Brooklyn  ...            garden tools - wheelbarrow\n",
              "15       Brooklyn  ...                  garden tools - spade\n",
              "16       Brooklyn  ...          pest_control - insect killer\n",
              "17       Brooklyn  ...            pest_control - weed killer\n",
              "18       Brooklyn  ...  planter - 20 inch terracotta planter\n",
              "19       Brooklyn  ...      planter - 8 inch plastic planter\n",
              "20         Queens  ...                         seeds - daisy\n",
              "21         Queens  ...                    seeds - calla lily\n",
              "22         Queens  ...                        seeds - tomato\n",
              "23         Queens  ...                   garden tools - rake\n",
              "24         Queens  ...            garden tools - wheelbarrow\n",
              "25         Queens  ...                  garden tools - spade\n",
              "26         Queens  ...          pest_control - insect killer\n",
              "27         Queens  ...            pest_control - weed killer\n",
              "28         Queens  ...  planter - 20 inch terracotta planter\n",
              "\n",
              "[29 rows x 8 columns]"
            ]
          },
          "metadata": {
            "tags": []
          },
          "execution_count": 183
        }
      ]
    },
    {
      "cell_type": "code",
      "metadata": {
        "id": "mnFaZSRJACl1"
      },
      "source": [
        ""
      ],
      "execution_count": null,
      "outputs": []
    }
  ]
}